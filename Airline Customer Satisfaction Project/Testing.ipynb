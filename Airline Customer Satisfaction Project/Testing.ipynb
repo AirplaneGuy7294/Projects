{
 "cells": [
  {
   "cell_type": "code",
   "execution_count": 1,
   "id": "bfb80e93",
   "metadata": {},
   "outputs": [],
   "source": [
    "import pandas as pd\n",
    "sat = pd.read_excel('C:/Users/elija/OneDrive/Desktop/Final Project/Week 2/satisfaction_2015.xlsx')"
   ]
  },
  {
   "cell_type": "code",
   "execution_count": 86,
   "id": "ab3929f9",
   "metadata": {},
   "outputs": [
    {
     "data": {
      "text/plain": [
       "'C:\\\\Users\\\\elija\\\\Bethel Tech Final Project'"
      ]
     },
     "execution_count": 86,
     "metadata": {},
     "output_type": "execute_result"
    }
   ],
   "source": [
    "pwd"
   ]
  },
  {
   "cell_type": "code",
   "execution_count": 2,
   "id": "a98cf9ca",
   "metadata": {},
   "outputs": [],
   "source": [
    "import numpy as np\n",
    "import seaborn as sns\n",
    "import scipy\n",
    "from scipy import stats\n",
    "from statsmodels.stats.multicomp import pairwise_tukeyhsd\n",
    "from statsmodels.stats.multicomp import MultiComparison\n",
    "import statsmodels.api as sm\n",
    "from statsmodels.formula.api import ols"
   ]
  },
  {
   "cell_type": "code",
   "execution_count": 3,
   "id": "59ab66a2",
   "metadata": {},
   "outputs": [
    {
     "data": {
      "text/html": [
       "<div>\n",
       "<style scoped>\n",
       "    .dataframe tbody tr th:only-of-type {\n",
       "        vertical-align: middle;\n",
       "    }\n",
       "\n",
       "    .dataframe tbody tr th {\n",
       "        vertical-align: top;\n",
       "    }\n",
       "\n",
       "    .dataframe thead th {\n",
       "        text-align: right;\n",
       "    }\n",
       "</style>\n",
       "<table border=\"1\" class=\"dataframe\">\n",
       "  <thead>\n",
       "    <tr style=\"text-align: right;\">\n",
       "      <th></th>\n",
       "      <th>id</th>\n",
       "      <th>satisfaction_v2</th>\n",
       "      <th>Gender</th>\n",
       "      <th>Customer Type</th>\n",
       "      <th>Age</th>\n",
       "      <th>Type of Travel</th>\n",
       "      <th>Class</th>\n",
       "      <th>Flight Distance</th>\n",
       "      <th>Inflight wifi service</th>\n",
       "      <th>Departure/Arrival time convenient</th>\n",
       "      <th>...</th>\n",
       "      <th>Seat comfort</th>\n",
       "      <th>Inflight entertainment</th>\n",
       "      <th>On-board service</th>\n",
       "      <th>Leg room service</th>\n",
       "      <th>Baggage handling</th>\n",
       "      <th>Checkin service</th>\n",
       "      <th>Inflight service</th>\n",
       "      <th>Cleanliness</th>\n",
       "      <th>Departure Delay in Minutes</th>\n",
       "      <th>Arrival Delay in Minutes</th>\n",
       "    </tr>\n",
       "  </thead>\n",
       "  <tbody>\n",
       "    <tr>\n",
       "      <th>0</th>\n",
       "      <td>117135</td>\n",
       "      <td>satisfied</td>\n",
       "      <td>Male</td>\n",
       "      <td>disloyal Customer</td>\n",
       "      <td>56</td>\n",
       "      <td>Personal Travel</td>\n",
       "      <td>Eco</td>\n",
       "      <td>369</td>\n",
       "      <td>0</td>\n",
       "      <td>2</td>\n",
       "      <td>...</td>\n",
       "      <td>3</td>\n",
       "      <td>3</td>\n",
       "      <td>1</td>\n",
       "      <td>5</td>\n",
       "      <td>3</td>\n",
       "      <td>3</td>\n",
       "      <td>4</td>\n",
       "      <td>3</td>\n",
       "      <td>0</td>\n",
       "      <td>0.0</td>\n",
       "    </tr>\n",
       "  </tbody>\n",
       "</table>\n",
       "<p>1 rows × 24 columns</p>\n",
       "</div>"
      ],
      "text/plain": [
       "       id satisfaction_v2 Gender      Customer Type  Age   Type of Travel  \\\n",
       "0  117135       satisfied   Male  disloyal Customer   56  Personal Travel   \n",
       "\n",
       "  Class  Flight Distance  Inflight wifi service  \\\n",
       "0   Eco              369                      0   \n",
       "\n",
       "   Departure/Arrival time convenient  ...  Seat comfort  \\\n",
       "0                                  2  ...             3   \n",
       "\n",
       "   Inflight entertainment  On-board service  Leg room service  \\\n",
       "0                       3                 1                 5   \n",
       "\n",
       "   Baggage handling  Checkin service  Inflight service  Cleanliness  \\\n",
       "0                 3                3                 4            3   \n",
       "\n",
       "   Departure Delay in Minutes  Arrival Delay in Minutes  \n",
       "0                           0                       0.0  \n",
       "\n",
       "[1 rows x 24 columns]"
      ]
     },
     "execution_count": 3,
     "metadata": {},
     "output_type": "execute_result"
    }
   ],
   "source": [
    "sat.head(1)"
   ]
  },
  {
   "cell_type": "code",
   "execution_count": 4,
   "id": "1277f5cc",
   "metadata": {},
   "outputs": [
    {
     "data": {
      "text/html": [
       "<div>\n",
       "<style scoped>\n",
       "    .dataframe tbody tr th:only-of-type {\n",
       "        vertical-align: middle;\n",
       "    }\n",
       "\n",
       "    .dataframe tbody tr th {\n",
       "        vertical-align: top;\n",
       "    }\n",
       "\n",
       "    .dataframe thead th {\n",
       "        text-align: right;\n",
       "    }\n",
       "</style>\n",
       "<table border=\"1\" class=\"dataframe\">\n",
       "  <thead>\n",
       "    <tr style=\"text-align: right;\">\n",
       "      <th></th>\n",
       "      <th>id</th>\n",
       "      <th>satisfaction_v2</th>\n",
       "      <th>Gender</th>\n",
       "      <th>Customer Type</th>\n",
       "      <th>Age</th>\n",
       "      <th>Type of Travel</th>\n",
       "      <th>Class</th>\n",
       "      <th>Flight Distance</th>\n",
       "      <th>Inflight wifi service</th>\n",
       "      <th>Departure/Arrival time convenient</th>\n",
       "      <th>...</th>\n",
       "      <th>Seat comfort</th>\n",
       "      <th>Inflight entertainment</th>\n",
       "      <th>On-board service</th>\n",
       "      <th>Leg room service</th>\n",
       "      <th>Baggage handling</th>\n",
       "      <th>Checkin service</th>\n",
       "      <th>Inflight service</th>\n",
       "      <th>Cleanliness</th>\n",
       "      <th>Departure Delay in Minutes</th>\n",
       "      <th>Arrival Delay in Minutes</th>\n",
       "    </tr>\n",
       "  </thead>\n",
       "  <tbody>\n",
       "    <tr>\n",
       "      <th>129879</th>\n",
       "      <td>10198</td>\n",
       "      <td>satisfied</td>\n",
       "      <td>Female</td>\n",
       "      <td>Loyal Customer</td>\n",
       "      <td>47</td>\n",
       "      <td>Business travel</td>\n",
       "      <td>Business</td>\n",
       "      <td>3939</td>\n",
       "      <td>1</td>\n",
       "      <td>1</td>\n",
       "      <td>...</td>\n",
       "      <td>5</td>\n",
       "      <td>5</td>\n",
       "      <td>2</td>\n",
       "      <td>5</td>\n",
       "      <td>4</td>\n",
       "      <td>5</td>\n",
       "      <td>4</td>\n",
       "      <td>5</td>\n",
       "      <td>0</td>\n",
       "      <td>0.0</td>\n",
       "    </tr>\n",
       "  </tbody>\n",
       "</table>\n",
       "<p>1 rows × 24 columns</p>\n",
       "</div>"
      ],
      "text/plain": [
       "           id satisfaction_v2  Gender   Customer Type  Age   Type of Travel  \\\n",
       "129879  10198       satisfied  Female  Loyal Customer   47  Business travel   \n",
       "\n",
       "           Class  Flight Distance  Inflight wifi service  \\\n",
       "129879  Business             3939                      1   \n",
       "\n",
       "        Departure/Arrival time convenient  ...  Seat comfort  \\\n",
       "129879                                  1  ...             5   \n",
       "\n",
       "        Inflight entertainment  On-board service  Leg room service  \\\n",
       "129879                       5                 2                 5   \n",
       "\n",
       "        Baggage handling  Checkin service  Inflight service  Cleanliness  \\\n",
       "129879                 4                5                 4            5   \n",
       "\n",
       "        Departure Delay in Minutes  Arrival Delay in Minutes  \n",
       "129879                           0                       0.0  \n",
       "\n",
       "[1 rows x 24 columns]"
      ]
     },
     "execution_count": 4,
     "metadata": {},
     "output_type": "execute_result"
    }
   ],
   "source": [
    "sat.tail(1)"
   ]
  },
  {
   "cell_type": "code",
   "execution_count": 5,
   "id": "f77a8570",
   "metadata": {},
   "outputs": [
    {
     "data": {
      "text/plain": [
       "<seaborn.matrix.ClusterGrid at 0x2b1e0e8ff70>"
      ]
     },
     "execution_count": 5,
     "metadata": {},
     "output_type": "execute_result"
    },
    {
     "data": {
      "image/png": "[encoded data removed]",
      "text/plain": [
       "<Figure size 720x720 with 4 Axes>"
      ]
     },
     "metadata": {
      "needs_background": "light"
     },
     "output_type": "display_data"
    }
   ],
   "source": [
    "sns.clustermap(sat.corr(),annot=True)"
   ]
  },
  {
   "cell_type": "code",
   "execution_count": 6,
   "id": "c1e039fd",
   "metadata": {},
   "outputs": [],
   "source": [
    "sat.columns = sat.columns.str.replace(' ','_')"
   ]
  },
  {
   "cell_type": "code",
   "execution_count": 7,
   "id": "889da307",
   "metadata": {},
   "outputs": [
    {
     "data": {
      "text/html": [
       "<div>\n",
       "<style scoped>\n",
       "    .dataframe tbody tr th:only-of-type {\n",
       "        vertical-align: middle;\n",
       "    }\n",
       "\n",
       "    .dataframe tbody tr th {\n",
       "        vertical-align: top;\n",
       "    }\n",
       "\n",
       "    .dataframe thead th {\n",
       "        text-align: right;\n",
       "    }\n",
       "</style>\n",
       "<table border=\"1\" class=\"dataframe\">\n",
       "  <thead>\n",
       "    <tr style=\"text-align: right;\">\n",
       "      <th></th>\n",
       "      <th>Type_of_Travel_Business travel</th>\n",
       "      <th>Type_of_Travel_Personal Travel</th>\n",
       "      <th>Class_Business</th>\n",
       "      <th>Class_Eco</th>\n",
       "      <th>Class_Eco Plus</th>\n",
       "      <th>Gender_Female</th>\n",
       "      <th>Gender_Male</th>\n",
       "      <th>Customer_Type_Loyal Customer</th>\n",
       "      <th>Customer_Type_disloyal Customer</th>\n",
       "    </tr>\n",
       "  </thead>\n",
       "  <tbody>\n",
       "    <tr>\n",
       "      <th>0</th>\n",
       "      <td>0</td>\n",
       "      <td>1</td>\n",
       "      <td>0</td>\n",
       "      <td>1</td>\n",
       "      <td>0</td>\n",
       "      <td>0</td>\n",
       "      <td>1</td>\n",
       "      <td>0</td>\n",
       "      <td>1</td>\n",
       "    </tr>\n",
       "    <tr>\n",
       "      <th>1</th>\n",
       "      <td>0</td>\n",
       "      <td>1</td>\n",
       "      <td>0</td>\n",
       "      <td>1</td>\n",
       "      <td>0</td>\n",
       "      <td>0</td>\n",
       "      <td>1</td>\n",
       "      <td>0</td>\n",
       "      <td>1</td>\n",
       "    </tr>\n",
       "    <tr>\n",
       "      <th>2</th>\n",
       "      <td>0</td>\n",
       "      <td>1</td>\n",
       "      <td>0</td>\n",
       "      <td>1</td>\n",
       "      <td>0</td>\n",
       "      <td>0</td>\n",
       "      <td>1</td>\n",
       "      <td>0</td>\n",
       "      <td>1</td>\n",
       "    </tr>\n",
       "    <tr>\n",
       "      <th>3</th>\n",
       "      <td>0</td>\n",
       "      <td>1</td>\n",
       "      <td>0</td>\n",
       "      <td>1</td>\n",
       "      <td>0</td>\n",
       "      <td>1</td>\n",
       "      <td>0</td>\n",
       "      <td>0</td>\n",
       "      <td>1</td>\n",
       "    </tr>\n",
       "    <tr>\n",
       "      <th>4</th>\n",
       "      <td>0</td>\n",
       "      <td>1</td>\n",
       "      <td>0</td>\n",
       "      <td>1</td>\n",
       "      <td>0</td>\n",
       "      <td>0</td>\n",
       "      <td>1</td>\n",
       "      <td>0</td>\n",
       "      <td>1</td>\n",
       "    </tr>\n",
       "    <tr>\n",
       "      <th>...</th>\n",
       "      <td>...</td>\n",
       "      <td>...</td>\n",
       "      <td>...</td>\n",
       "      <td>...</td>\n",
       "      <td>...</td>\n",
       "      <td>...</td>\n",
       "      <td>...</td>\n",
       "      <td>...</td>\n",
       "      <td>...</td>\n",
       "    </tr>\n",
       "    <tr>\n",
       "      <th>129875</th>\n",
       "      <td>1</td>\n",
       "      <td>0</td>\n",
       "      <td>1</td>\n",
       "      <td>0</td>\n",
       "      <td>0</td>\n",
       "      <td>1</td>\n",
       "      <td>0</td>\n",
       "      <td>1</td>\n",
       "      <td>0</td>\n",
       "    </tr>\n",
       "    <tr>\n",
       "      <th>129876</th>\n",
       "      <td>1</td>\n",
       "      <td>0</td>\n",
       "      <td>0</td>\n",
       "      <td>1</td>\n",
       "      <td>0</td>\n",
       "      <td>1</td>\n",
       "      <td>0</td>\n",
       "      <td>1</td>\n",
       "      <td>0</td>\n",
       "    </tr>\n",
       "    <tr>\n",
       "      <th>129877</th>\n",
       "      <td>1</td>\n",
       "      <td>0</td>\n",
       "      <td>1</td>\n",
       "      <td>0</td>\n",
       "      <td>0</td>\n",
       "      <td>0</td>\n",
       "      <td>1</td>\n",
       "      <td>1</td>\n",
       "      <td>0</td>\n",
       "    </tr>\n",
       "    <tr>\n",
       "      <th>129878</th>\n",
       "      <td>1</td>\n",
       "      <td>0</td>\n",
       "      <td>1</td>\n",
       "      <td>0</td>\n",
       "      <td>0</td>\n",
       "      <td>1</td>\n",
       "      <td>0</td>\n",
       "      <td>1</td>\n",
       "      <td>0</td>\n",
       "    </tr>\n",
       "    <tr>\n",
       "      <th>129879</th>\n",
       "      <td>1</td>\n",
       "      <td>0</td>\n",
       "      <td>1</td>\n",
       "      <td>0</td>\n",
       "      <td>0</td>\n",
       "      <td>1</td>\n",
       "      <td>0</td>\n",
       "      <td>1</td>\n",
       "      <td>0</td>\n",
       "    </tr>\n",
       "  </tbody>\n",
       "</table>\n",
       "<p>129880 rows × 9 columns</p>\n",
       "</div>"
      ],
      "text/plain": [
       "        Type_of_Travel_Business travel  Type_of_Travel_Personal Travel  \\\n",
       "0                                    0                               1   \n",
       "1                                    0                               1   \n",
       "2                                    0                               1   \n",
       "3                                    0                               1   \n",
       "4                                    0                               1   \n",
       "...                                ...                             ...   \n",
       "129875                               1                               0   \n",
       "129876                               1                               0   \n",
       "129877                               1                               0   \n",
       "129878                               1                               0   \n",
       "129879                               1                               0   \n",
       "\n",
       "        Class_Business  Class_Eco  Class_Eco Plus  Gender_Female  Gender_Male  \\\n",
       "0                    0          1               0              0            1   \n",
       "1                    0          1               0              0            1   \n",
       "2                    0          1               0              0            1   \n",
       "3                    0          1               0              1            0   \n",
       "4                    0          1               0              0            1   \n",
       "...                ...        ...             ...            ...          ...   \n",
       "129875               1          0               0              1            0   \n",
       "129876               0          1               0              1            0   \n",
       "129877               1          0               0              0            1   \n",
       "129878               1          0               0              1            0   \n",
       "129879               1          0               0              1            0   \n",
       "\n",
       "        Customer_Type_Loyal Customer  Customer_Type_disloyal Customer  \n",
       "0                                  0                                1  \n",
       "1                                  0                                1  \n",
       "2                                  0                                1  \n",
       "3                                  0                                1  \n",
       "4                                  0                                1  \n",
       "...                              ...                              ...  \n",
       "129875                             1                                0  \n",
       "129876                             1                                0  \n",
       "129877                             1                                0  \n",
       "129878                             1                                0  \n",
       "129879                             1                                0  \n",
       "\n",
       "[129880 rows x 9 columns]"
      ]
     },
     "execution_count": 7,
     "metadata": {},
     "output_type": "execute_result"
    }
   ],
   "source": [
    "dummy = pd.get_dummies(sat[['Type_of_Travel','Class','Gender','Customer_Type']])\n",
    "dummy"
   ]
  },
  {
   "cell_type": "code",
   "execution_count": 8,
   "id": "f0f72bf3",
   "metadata": {},
   "outputs": [],
   "source": [
    "dummy.columns = dummy.columns.str.replace(' ','_')"
   ]
  },
  {
   "cell_type": "code",
   "execution_count": 9,
   "id": "038362b0",
   "metadata": {},
   "outputs": [],
   "source": [
    "sat = pd.concat([sat, dummy], axis = 1)"
   ]
  },
  {
   "cell_type": "code",
   "execution_count": 10,
   "id": "665d193e",
   "metadata": {},
   "outputs": [
    {
     "data": {
      "text/html": [
       "<div>\n",
       "<style scoped>\n",
       "    .dataframe tbody tr th:only-of-type {\n",
       "        vertical-align: middle;\n",
       "    }\n",
       "\n",
       "    .dataframe tbody tr th {\n",
       "        vertical-align: top;\n",
       "    }\n",
       "\n",
       "    .dataframe thead th {\n",
       "        text-align: right;\n",
       "    }\n",
       "</style>\n",
       "<table border=\"1\" class=\"dataframe\">\n",
       "  <thead>\n",
       "    <tr style=\"text-align: right;\">\n",
       "      <th></th>\n",
       "      <th>id</th>\n",
       "      <th>satisfaction_v2</th>\n",
       "      <th>Gender</th>\n",
       "      <th>Customer_Type</th>\n",
       "      <th>Age</th>\n",
       "      <th>Type_of_Travel</th>\n",
       "      <th>Class</th>\n",
       "      <th>Flight_Distance</th>\n",
       "      <th>Inflight_wifi_service</th>\n",
       "      <th>Departure/Arrival_time_convenient</th>\n",
       "      <th>...</th>\n",
       "      <th>Arrival_Delay_in_Minutes</th>\n",
       "      <th>Type_of_Travel_Business_travel</th>\n",
       "      <th>Type_of_Travel_Personal_Travel</th>\n",
       "      <th>Class_Business</th>\n",
       "      <th>Class_Eco</th>\n",
       "      <th>Class_Eco_Plus</th>\n",
       "      <th>Gender_Female</th>\n",
       "      <th>Gender_Male</th>\n",
       "      <th>Customer_Type_Loyal_Customer</th>\n",
       "      <th>Customer_Type_disloyal_Customer</th>\n",
       "    </tr>\n",
       "  </thead>\n",
       "  <tbody>\n",
       "    <tr>\n",
       "      <th>0</th>\n",
       "      <td>117135</td>\n",
       "      <td>satisfied</td>\n",
       "      <td>Male</td>\n",
       "      <td>disloyal Customer</td>\n",
       "      <td>56</td>\n",
       "      <td>Personal Travel</td>\n",
       "      <td>Eco</td>\n",
       "      <td>369</td>\n",
       "      <td>0</td>\n",
       "      <td>2</td>\n",
       "      <td>...</td>\n",
       "      <td>0.0</td>\n",
       "      <td>0</td>\n",
       "      <td>1</td>\n",
       "      <td>0</td>\n",
       "      <td>1</td>\n",
       "      <td>0</td>\n",
       "      <td>0</td>\n",
       "      <td>1</td>\n",
       "      <td>0</td>\n",
       "      <td>1</td>\n",
       "    </tr>\n",
       "    <tr>\n",
       "      <th>1</th>\n",
       "      <td>72091</td>\n",
       "      <td>satisfied</td>\n",
       "      <td>Male</td>\n",
       "      <td>disloyal Customer</td>\n",
       "      <td>49</td>\n",
       "      <td>Personal Travel</td>\n",
       "      <td>Eco</td>\n",
       "      <td>2486</td>\n",
       "      <td>0</td>\n",
       "      <td>2</td>\n",
       "      <td>...</td>\n",
       "      <td>0.0</td>\n",
       "      <td>0</td>\n",
       "      <td>1</td>\n",
       "      <td>0</td>\n",
       "      <td>1</td>\n",
       "      <td>0</td>\n",
       "      <td>0</td>\n",
       "      <td>1</td>\n",
       "      <td>0</td>\n",
       "      <td>1</td>\n",
       "    </tr>\n",
       "    <tr>\n",
       "      <th>2</th>\n",
       "      <td>29663</td>\n",
       "      <td>satisfied</td>\n",
       "      <td>Male</td>\n",
       "      <td>disloyal Customer</td>\n",
       "      <td>55</td>\n",
       "      <td>Personal Travel</td>\n",
       "      <td>Eco</td>\n",
       "      <td>1448</td>\n",
       "      <td>0</td>\n",
       "      <td>3</td>\n",
       "      <td>...</td>\n",
       "      <td>0.0</td>\n",
       "      <td>0</td>\n",
       "      <td>1</td>\n",
       "      <td>0</td>\n",
       "      <td>1</td>\n",
       "      <td>0</td>\n",
       "      <td>0</td>\n",
       "      <td>1</td>\n",
       "      <td>0</td>\n",
       "      <td>1</td>\n",
       "    </tr>\n",
       "    <tr>\n",
       "      <th>3</th>\n",
       "      <td>81849</td>\n",
       "      <td>satisfied</td>\n",
       "      <td>Female</td>\n",
       "      <td>disloyal Customer</td>\n",
       "      <td>36</td>\n",
       "      <td>Personal Travel</td>\n",
       "      <td>Eco</td>\n",
       "      <td>1501</td>\n",
       "      <td>0</td>\n",
       "      <td>4</td>\n",
       "      <td>...</td>\n",
       "      <td>0.0</td>\n",
       "      <td>0</td>\n",
       "      <td>1</td>\n",
       "      <td>0</td>\n",
       "      <td>1</td>\n",
       "      <td>0</td>\n",
       "      <td>1</td>\n",
       "      <td>0</td>\n",
       "      <td>0</td>\n",
       "      <td>1</td>\n",
       "    </tr>\n",
       "    <tr>\n",
       "      <th>4</th>\n",
       "      <td>83693</td>\n",
       "      <td>satisfied</td>\n",
       "      <td>Male</td>\n",
       "      <td>disloyal Customer</td>\n",
       "      <td>55</td>\n",
       "      <td>Personal Travel</td>\n",
       "      <td>Eco</td>\n",
       "      <td>577</td>\n",
       "      <td>0</td>\n",
       "      <td>5</td>\n",
       "      <td>...</td>\n",
       "      <td>0.0</td>\n",
       "      <td>0</td>\n",
       "      <td>1</td>\n",
       "      <td>0</td>\n",
       "      <td>1</td>\n",
       "      <td>0</td>\n",
       "      <td>0</td>\n",
       "      <td>1</td>\n",
       "      <td>0</td>\n",
       "      <td>1</td>\n",
       "    </tr>\n",
       "    <tr>\n",
       "      <th>...</th>\n",
       "      <td>...</td>\n",
       "      <td>...</td>\n",
       "      <td>...</td>\n",
       "      <td>...</td>\n",
       "      <td>...</td>\n",
       "      <td>...</td>\n",
       "      <td>...</td>\n",
       "      <td>...</td>\n",
       "      <td>...</td>\n",
       "      <td>...</td>\n",
       "      <td>...</td>\n",
       "      <td>...</td>\n",
       "      <td>...</td>\n",
       "      <td>...</td>\n",
       "      <td>...</td>\n",
       "      <td>...</td>\n",
       "      <td>...</td>\n",
       "      <td>...</td>\n",
       "      <td>...</td>\n",
       "      <td>...</td>\n",
       "      <td>...</td>\n",
       "    </tr>\n",
       "    <tr>\n",
       "      <th>129875</th>\n",
       "      <td>49202</td>\n",
       "      <td>satisfied</td>\n",
       "      <td>Female</td>\n",
       "      <td>Loyal Customer</td>\n",
       "      <td>35</td>\n",
       "      <td>Business travel</td>\n",
       "      <td>Business</td>\n",
       "      <td>2592</td>\n",
       "      <td>5</td>\n",
       "      <td>5</td>\n",
       "      <td>...</td>\n",
       "      <td>0.0</td>\n",
       "      <td>1</td>\n",
       "      <td>0</td>\n",
       "      <td>1</td>\n",
       "      <td>0</td>\n",
       "      <td>0</td>\n",
       "      <td>1</td>\n",
       "      <td>0</td>\n",
       "      <td>1</td>\n",
       "      <td>0</td>\n",
       "    </tr>\n",
       "    <tr>\n",
       "      <th>129876</th>\n",
       "      <td>16986</td>\n",
       "      <td>satisfied</td>\n",
       "      <td>Female</td>\n",
       "      <td>Loyal Customer</td>\n",
       "      <td>11</td>\n",
       "      <td>Business travel</td>\n",
       "      <td>Eco</td>\n",
       "      <td>610</td>\n",
       "      <td>5</td>\n",
       "      <td>1</td>\n",
       "      <td>...</td>\n",
       "      <td>65.0</td>\n",
       "      <td>1</td>\n",
       "      <td>0</td>\n",
       "      <td>0</td>\n",
       "      <td>1</td>\n",
       "      <td>0</td>\n",
       "      <td>1</td>\n",
       "      <td>0</td>\n",
       "      <td>1</td>\n",
       "      <td>0</td>\n",
       "    </tr>\n",
       "    <tr>\n",
       "      <th>129877</th>\n",
       "      <td>50316</td>\n",
       "      <td>satisfied</td>\n",
       "      <td>Male</td>\n",
       "      <td>Loyal Customer</td>\n",
       "      <td>46</td>\n",
       "      <td>Business travel</td>\n",
       "      <td>Business</td>\n",
       "      <td>86</td>\n",
       "      <td>1</td>\n",
       "      <td>1</td>\n",
       "      <td>...</td>\n",
       "      <td>0.0</td>\n",
       "      <td>1</td>\n",
       "      <td>0</td>\n",
       "      <td>1</td>\n",
       "      <td>0</td>\n",
       "      <td>0</td>\n",
       "      <td>0</td>\n",
       "      <td>1</td>\n",
       "      <td>1</td>\n",
       "      <td>0</td>\n",
       "    </tr>\n",
       "    <tr>\n",
       "      <th>129878</th>\n",
       "      <td>22333</td>\n",
       "      <td>satisfied</td>\n",
       "      <td>Female</td>\n",
       "      <td>Loyal Customer</td>\n",
       "      <td>35</td>\n",
       "      <td>Business travel</td>\n",
       "      <td>Business</td>\n",
       "      <td>83</td>\n",
       "      <td>1</td>\n",
       "      <td>1</td>\n",
       "      <td>...</td>\n",
       "      <td>0.0</td>\n",
       "      <td>1</td>\n",
       "      <td>0</td>\n",
       "      <td>1</td>\n",
       "      <td>0</td>\n",
       "      <td>0</td>\n",
       "      <td>1</td>\n",
       "      <td>0</td>\n",
       "      <td>1</td>\n",
       "      <td>0</td>\n",
       "    </tr>\n",
       "    <tr>\n",
       "      <th>129879</th>\n",
       "      <td>10198</td>\n",
       "      <td>satisfied</td>\n",
       "      <td>Female</td>\n",
       "      <td>Loyal Customer</td>\n",
       "      <td>47</td>\n",
       "      <td>Business travel</td>\n",
       "      <td>Business</td>\n",
       "      <td>3939</td>\n",
       "      <td>1</td>\n",
       "      <td>1</td>\n",
       "      <td>...</td>\n",
       "      <td>0.0</td>\n",
       "      <td>1</td>\n",
       "      <td>0</td>\n",
       "      <td>1</td>\n",
       "      <td>0</td>\n",
       "      <td>0</td>\n",
       "      <td>1</td>\n",
       "      <td>0</td>\n",
       "      <td>1</td>\n",
       "      <td>0</td>\n",
       "    </tr>\n",
       "  </tbody>\n",
       "</table>\n",
       "<p>129880 rows × 33 columns</p>\n",
       "</div>"
      ],
      "text/plain": [
       "            id satisfaction_v2  Gender      Customer_Type  Age  \\\n",
       "0       117135       satisfied    Male  disloyal Customer   56   \n",
       "1        72091       satisfied    Male  disloyal Customer   49   \n",
       "2        29663       satisfied    Male  disloyal Customer   55   \n",
       "3        81849       satisfied  Female  disloyal Customer   36   \n",
       "4        83693       satisfied    Male  disloyal Customer   55   \n",
       "...        ...             ...     ...                ...  ...   \n",
       "129875   49202       satisfied  Female     Loyal Customer   35   \n",
       "129876   16986       satisfied  Female     Loyal Customer   11   \n",
       "129877   50316       satisfied    Male     Loyal Customer   46   \n",
       "129878   22333       satisfied  Female     Loyal Customer   35   \n",
       "129879   10198       satisfied  Female     Loyal Customer   47   \n",
       "\n",
       "         Type_of_Travel     Class  Flight_Distance  Inflight_wifi_service  \\\n",
       "0       Personal Travel       Eco              369                      0   \n",
       "1       Personal Travel       Eco             2486                      0   \n",
       "2       Personal Travel       Eco             1448                      0   \n",
       "3       Personal Travel       Eco             1501                      0   \n",
       "4       Personal Travel       Eco              577                      0   \n",
       "...                 ...       ...              ...                    ...   \n",
       "129875  Business travel  Business             2592                      5   \n",
       "129876  Business travel       Eco              610                      5   \n",
       "129877  Business travel  Business               86                      1   \n",
       "129878  Business travel  Business               83                      1   \n",
       "129879  Business travel  Business             3939                      1   \n",
       "\n",
       "        Departure/Arrival_time_convenient  ...  Arrival_Delay_in_Minutes  \\\n",
       "0                                       2  ...                       0.0   \n",
       "1                                       2  ...                       0.0   \n",
       "2                                       3  ...                       0.0   \n",
       "3                                       4  ...                       0.0   \n",
       "4                                       5  ...                       0.0   \n",
       "...                                   ...  ...                       ...   \n",
       "129875                                  5  ...                       0.0   \n",
       "129876                                  1  ...                      65.0   \n",
       "129877                                  1  ...                       0.0   \n",
       "129878                                  1  ...                       0.0   \n",
       "129879                                  1  ...                       0.0   \n",
       "\n",
       "        Type_of_Travel_Business_travel  Type_of_Travel_Personal_Travel  \\\n",
       "0                                    0                               1   \n",
       "1                                    0                               1   \n",
       "2                                    0                               1   \n",
       "3                                    0                               1   \n",
       "4                                    0                               1   \n",
       "...                                ...                             ...   \n",
       "129875                               1                               0   \n",
       "129876                               1                               0   \n",
       "129877                               1                               0   \n",
       "129878                               1                               0   \n",
       "129879                               1                               0   \n",
       "\n",
       "        Class_Business  Class_Eco  Class_Eco_Plus  Gender_Female  Gender_Male  \\\n",
       "0                    0          1               0              0            1   \n",
       "1                    0          1               0              0            1   \n",
       "2                    0          1               0              0            1   \n",
       "3                    0          1               0              1            0   \n",
       "4                    0          1               0              0            1   \n",
       "...                ...        ...             ...            ...          ...   \n",
       "129875               1          0               0              1            0   \n",
       "129876               0          1               0              1            0   \n",
       "129877               1          0               0              0            1   \n",
       "129878               1          0               0              1            0   \n",
       "129879               1          0               0              1            0   \n",
       "\n",
       "        Customer_Type_Loyal_Customer  Customer_Type_disloyal_Customer  \n",
       "0                                  0                                1  \n",
       "1                                  0                                1  \n",
       "2                                  0                                1  \n",
       "3                                  0                                1  \n",
       "4                                  0                                1  \n",
       "...                              ...                              ...  \n",
       "129875                             1                                0  \n",
       "129876                             1                                0  \n",
       "129877                             1                                0  \n",
       "129878                             1                                0  \n",
       "129879                             1                                0  \n",
       "\n",
       "[129880 rows x 33 columns]"
      ]
     },
     "execution_count": 10,
     "metadata": {},
     "output_type": "execute_result"
    }
   ],
   "source": [
    "sat"
   ]
  },
  {
   "cell_type": "markdown",
   "id": "683df738",
   "metadata": {},
   "source": [
    "## Anovas for business and personal\n"
   ]
  },
  {
   "cell_type": "code",
   "execution_count": 11,
   "id": "78a0422c",
   "metadata": {},
   "outputs": [],
   "source": [
    "def bus_per(type):\n",
    "    if type == 'Personal Travel':\n",
    "        return 1\n",
    "    elif type == 'Business travel':\n",
    "        return 0\n"
   ]
  },
  {
   "cell_type": "code",
   "execution_count": 12,
   "id": "14ad6c4d",
   "metadata": {},
   "outputs": [],
   "source": [
    "sat['Type_of_TravelR'] = sat['Type_of_Travel'].apply(bus_per)"
   ]
  },
  {
   "cell_type": "code",
   "execution_count": 13,
   "id": "7ca2b370",
   "metadata": {},
   "outputs": [
    {
     "data": {
      "text/html": [
       "<div>\n",
       "<style scoped>\n",
       "    .dataframe tbody tr th:only-of-type {\n",
       "        vertical-align: middle;\n",
       "    }\n",
       "\n",
       "    .dataframe tbody tr th {\n",
       "        vertical-align: top;\n",
       "    }\n",
       "\n",
       "    .dataframe thead th {\n",
       "        text-align: right;\n",
       "    }\n",
       "</style>\n",
       "<table border=\"1\" class=\"dataframe\">\n",
       "  <thead>\n",
       "    <tr style=\"text-align: right;\">\n",
       "      <th></th>\n",
       "      <th>id</th>\n",
       "      <th>satisfaction_v2</th>\n",
       "      <th>Gender</th>\n",
       "      <th>Customer_Type</th>\n",
       "      <th>Age</th>\n",
       "      <th>Type_of_Travel</th>\n",
       "      <th>Class</th>\n",
       "      <th>Flight_Distance</th>\n",
       "      <th>Inflight_wifi_service</th>\n",
       "      <th>Departure/Arrival_time_convenient</th>\n",
       "      <th>...</th>\n",
       "      <th>Type_of_Travel_Business_travel</th>\n",
       "      <th>Type_of_Travel_Personal_Travel</th>\n",
       "      <th>Class_Business</th>\n",
       "      <th>Class_Eco</th>\n",
       "      <th>Class_Eco_Plus</th>\n",
       "      <th>Gender_Female</th>\n",
       "      <th>Gender_Male</th>\n",
       "      <th>Customer_Type_Loyal_Customer</th>\n",
       "      <th>Customer_Type_disloyal_Customer</th>\n",
       "      <th>Type_of_TravelR</th>\n",
       "    </tr>\n",
       "  </thead>\n",
       "  <tbody>\n",
       "    <tr>\n",
       "      <th>0</th>\n",
       "      <td>117135</td>\n",
       "      <td>satisfied</td>\n",
       "      <td>Male</td>\n",
       "      <td>disloyal Customer</td>\n",
       "      <td>56</td>\n",
       "      <td>Personal Travel</td>\n",
       "      <td>Eco</td>\n",
       "      <td>369</td>\n",
       "      <td>0</td>\n",
       "      <td>2</td>\n",
       "      <td>...</td>\n",
       "      <td>0</td>\n",
       "      <td>1</td>\n",
       "      <td>0</td>\n",
       "      <td>1</td>\n",
       "      <td>0</td>\n",
       "      <td>0</td>\n",
       "      <td>1</td>\n",
       "      <td>0</td>\n",
       "      <td>1</td>\n",
       "      <td>1</td>\n",
       "    </tr>\n",
       "  </tbody>\n",
       "</table>\n",
       "<p>1 rows × 34 columns</p>\n",
       "</div>"
      ],
      "text/plain": [
       "       id satisfaction_v2 Gender      Customer_Type  Age   Type_of_Travel  \\\n",
       "0  117135       satisfied   Male  disloyal Customer   56  Personal Travel   \n",
       "\n",
       "  Class  Flight_Distance  Inflight_wifi_service  \\\n",
       "0   Eco              369                      0   \n",
       "\n",
       "   Departure/Arrival_time_convenient  ...  Type_of_Travel_Business_travel  \\\n",
       "0                                  2  ...                               0   \n",
       "\n",
       "   Type_of_Travel_Personal_Travel  Class_Business  Class_Eco  Class_Eco_Plus  \\\n",
       "0                               1               0          1               0   \n",
       "\n",
       "   Gender_Female  Gender_Male  Customer_Type_Loyal_Customer  \\\n",
       "0              0            1                             0   \n",
       "\n",
       "   Customer_Type_disloyal_Customer  Type_of_TravelR  \n",
       "0                                1                1  \n",
       "\n",
       "[1 rows x 34 columns]"
      ]
     },
     "execution_count": 13,
     "metadata": {},
     "output_type": "execute_result"
    }
   ],
   "source": [
    "sat.head(1)"
   ]
  },
  {
   "cell_type": "code",
   "execution_count": 14,
   "id": "97a0624b",
   "metadata": {},
   "outputs": [
    {
     "data": {
      "text/html": [
       "<div>\n",
       "<style scoped>\n",
       "    .dataframe tbody tr th:only-of-type {\n",
       "        vertical-align: middle;\n",
       "    }\n",
       "\n",
       "    .dataframe tbody tr th {\n",
       "        vertical-align: top;\n",
       "    }\n",
       "\n",
       "    .dataframe thead th {\n",
       "        text-align: right;\n",
       "    }\n",
       "</style>\n",
       "<table border=\"1\" class=\"dataframe\">\n",
       "  <thead>\n",
       "    <tr style=\"text-align: right;\">\n",
       "      <th></th>\n",
       "      <th>id</th>\n",
       "      <th>satisfaction_v2</th>\n",
       "      <th>Gender</th>\n",
       "      <th>Customer_Type</th>\n",
       "      <th>Age</th>\n",
       "      <th>Type_of_Travel</th>\n",
       "      <th>Class</th>\n",
       "      <th>Flight_Distance</th>\n",
       "      <th>Inflight_wifi_service</th>\n",
       "      <th>Departure/Arrival_time_convenient</th>\n",
       "      <th>...</th>\n",
       "      <th>Type_of_Travel_Business_travel</th>\n",
       "      <th>Type_of_Travel_Personal_Travel</th>\n",
       "      <th>Class_Business</th>\n",
       "      <th>Class_Eco</th>\n",
       "      <th>Class_Eco_Plus</th>\n",
       "      <th>Gender_Female</th>\n",
       "      <th>Gender_Male</th>\n",
       "      <th>Customer_Type_Loyal_Customer</th>\n",
       "      <th>Customer_Type_disloyal_Customer</th>\n",
       "      <th>Type_of_TravelR</th>\n",
       "    </tr>\n",
       "  </thead>\n",
       "  <tbody>\n",
       "    <tr>\n",
       "      <th>129879</th>\n",
       "      <td>10198</td>\n",
       "      <td>satisfied</td>\n",
       "      <td>Female</td>\n",
       "      <td>Loyal Customer</td>\n",
       "      <td>47</td>\n",
       "      <td>Business travel</td>\n",
       "      <td>Business</td>\n",
       "      <td>3939</td>\n",
       "      <td>1</td>\n",
       "      <td>1</td>\n",
       "      <td>...</td>\n",
       "      <td>1</td>\n",
       "      <td>0</td>\n",
       "      <td>1</td>\n",
       "      <td>0</td>\n",
       "      <td>0</td>\n",
       "      <td>1</td>\n",
       "      <td>0</td>\n",
       "      <td>1</td>\n",
       "      <td>0</td>\n",
       "      <td>0</td>\n",
       "    </tr>\n",
       "  </tbody>\n",
       "</table>\n",
       "<p>1 rows × 34 columns</p>\n",
       "</div>"
      ],
      "text/plain": [
       "           id satisfaction_v2  Gender   Customer_Type  Age   Type_of_Travel  \\\n",
       "129879  10198       satisfied  Female  Loyal Customer   47  Business travel   \n",
       "\n",
       "           Class  Flight_Distance  Inflight_wifi_service  \\\n",
       "129879  Business             3939                      1   \n",
       "\n",
       "        Departure/Arrival_time_convenient  ...  \\\n",
       "129879                                  1  ...   \n",
       "\n",
       "        Type_of_Travel_Business_travel  Type_of_Travel_Personal_Travel  \\\n",
       "129879                               1                               0   \n",
       "\n",
       "        Class_Business  Class_Eco  Class_Eco_Plus  Gender_Female  Gender_Male  \\\n",
       "129879               1          0               0              1            0   \n",
       "\n",
       "        Customer_Type_Loyal_Customer  Customer_Type_disloyal_Customer  \\\n",
       "129879                             1                                0   \n",
       "\n",
       "        Type_of_TravelR  \n",
       "129879                0  \n",
       "\n",
       "[1 rows x 34 columns]"
      ]
     },
     "execution_count": 14,
     "metadata": {},
     "output_type": "execute_result"
    }
   ],
   "source": [
    "sat.tail(1)"
   ]
  },
  {
   "cell_type": "code",
   "execution_count": 15,
   "id": "e257d6eb",
   "metadata": {},
   "outputs": [
    {
     "data": {
      "text/plain": [
       "<AxesSubplot:xlabel='Departure/Arrival_time_convenient', ylabel='Count'>"
      ]
     },
     "execution_count": 15,
     "metadata": {},
     "output_type": "execute_result"
    },
    {
     "data": {
      "image/png": "[encoded data removed]",
      "text/plain": [
       "<Figure size 432x288 with 1 Axes>"
      ]
     },
     "metadata": {
      "needs_background": "light"
     },
     "output_type": "display_data"
    }
   ],
   "source": [
    "sns.histplot(sat['Departure/Arrival_time_convenient']) "
   ]
  },
  {
   "cell_type": "code",
   "execution_count": 16,
   "id": "f5e4e5be",
   "metadata": {},
   "outputs": [],
   "source": [
    "sat['Departure/Arrival_time_convenient_sqr'] = sat['Departure/Arrival_time_convenient']*sat['Departure/Arrival_time_convenient']"
   ]
  },
  {
   "cell_type": "code",
   "execution_count": 17,
   "id": "b2ae7c52",
   "metadata": {},
   "outputs": [
    {
     "data": {
      "text/plain": [
       "<AxesSubplot:xlabel='Departure/Arrival_time_convenient_sqr', ylabel='Count'>"
      ]
     },
     "execution_count": 17,
     "metadata": {},
     "output_type": "execute_result"
    },
    {
     "data": {
      "image/png": "[encoded data removed]",
      "text/plain": [
       "<Figure size 432x288 with 1 Axes>"
      ]
     },
     "metadata": {
      "needs_background": "light"
     },
     "output_type": "display_data"
    }
   ],
   "source": [
    "sns.histplot(sat['Departure/Arrival_time_convenient_sqr']) "
   ]
  },
  {
   "cell_type": "code",
   "execution_count": 18,
   "id": "30e7a10a",
   "metadata": {},
   "outputs": [],
   "source": [
    "sat2 = sat[['Type_of_TravelR','Departure/Arrival_time_convenient_sqr','Type_of_Travel']]"
   ]
  },
  {
   "cell_type": "code",
   "execution_count": 19,
   "id": "f4183667",
   "metadata": {},
   "outputs": [
    {
     "data": {
      "text/plain": [
       "F_onewayResult(statistic=9192.743745788075, pvalue=0.0)"
      ]
     },
     "execution_count": 19,
     "metadata": {},
     "output_type": "execute_result"
    }
   ],
   "source": [
    "stats.f_oneway(sat['Departure/Arrival_time_convenient'][sat['Type_of_Travel']== 'Personal Travel'],\n",
    "              sat['Departure/Arrival_time_convenient'][sat['Type_of_Travel']== 'Business travel'])"
   ]
  },
  {
   "cell_type": "markdown",
   "id": "368d74a9",
   "metadata": {},
   "source": [
    "### siginficant difference"
   ]
  },
  {
   "cell_type": "code",
   "execution_count": 20,
   "id": "f7b54bde",
   "metadata": {},
   "outputs": [
    {
     "name": "stdout",
     "output_type": "stream",
     "text": [
      "Multiple Comparison of Means - Tukey HSD, FWER=0.05\n",
      "=================================================\n",
      "group1 group2 meandiff p-adj lower  upper  reject\n",
      "-------------------------------------------------\n",
      "     0      1    5.056 0.001 4.9559 5.1561   True\n",
      "-------------------------------------------------\n"
     ]
    }
   ],
   "source": [
    "convenientposthoc = MultiComparison(sat2['Departure/Arrival_time_convenient_sqr'], sat2['Type_of_TravelR'])\n",
    "convenientposthocresult = convenientposthoc.tukeyhsd()\n",
    "print(convenientposthocresult)"
   ]
  },
  {
   "cell_type": "markdown",
   "id": "68998ed2",
   "metadata": {},
   "source": [
    "## Data wrangling for ages"
   ]
  },
  {
   "cell_type": "code",
   "execution_count": 21,
   "id": "ebec6ba7",
   "metadata": {},
   "outputs": [],
   "source": [
    "def age_sixty(age):\n",
    "    if age >= 60:\n",
    "        return 0\n",
    "    elif age < 60:\n",
    "        return 1\n",
    "\n",
    "sat['Age_divided_at_60'] = sat['Age'].apply(age_sixty)"
   ]
  },
  {
   "cell_type": "code",
   "execution_count": 22,
   "id": "bf43535f",
   "metadata": {},
   "outputs": [],
   "source": [
    "def age_thirty(age):\n",
    "    if age >= 30:\n",
    "        return 0\n",
    "    elif age < 30:\n",
    "        return 1\n",
    "    \n",
    "sat['Age_30'] = sat['Age'].apply(age_thirty)"
   ]
  },
  {
   "cell_type": "code",
   "execution_count": 23,
   "id": "1ac36fbe",
   "metadata": {},
   "outputs": [],
   "source": [
    "def age_twentyfive(age):\n",
    "    if age >= 25:\n",
    "        return 0\n",
    "    elif age < 25:\n",
    "        return 1\n",
    "\n",
    "sat['Age_25'] = sat['Age'].apply(age_twentyfive)"
   ]
  },
  {
   "cell_type": "code",
   "execution_count": 24,
   "id": "88237491",
   "metadata": {
    "scrolled": true
   },
   "outputs": [
    {
     "data": {
      "text/html": [
       "<div>\n",
       "<style scoped>\n",
       "    .dataframe tbody tr th:only-of-type {\n",
       "        vertical-align: middle;\n",
       "    }\n",
       "\n",
       "    .dataframe tbody tr th {\n",
       "        vertical-align: top;\n",
       "    }\n",
       "\n",
       "    .dataframe thead th {\n",
       "        text-align: right;\n",
       "    }\n",
       "</style>\n",
       "<table border=\"1\" class=\"dataframe\">\n",
       "  <thead>\n",
       "    <tr style=\"text-align: right;\">\n",
       "      <th></th>\n",
       "      <th>id</th>\n",
       "      <th>satisfaction_v2</th>\n",
       "      <th>Gender</th>\n",
       "      <th>Customer_Type</th>\n",
       "      <th>Age</th>\n",
       "      <th>Type_of_Travel</th>\n",
       "      <th>Class</th>\n",
       "      <th>Flight_Distance</th>\n",
       "      <th>Inflight_wifi_service</th>\n",
       "      <th>Departure/Arrival_time_convenient</th>\n",
       "      <th>...</th>\n",
       "      <th>Class_Eco_Plus</th>\n",
       "      <th>Gender_Female</th>\n",
       "      <th>Gender_Male</th>\n",
       "      <th>Customer_Type_Loyal_Customer</th>\n",
       "      <th>Customer_Type_disloyal_Customer</th>\n",
       "      <th>Type_of_TravelR</th>\n",
       "      <th>Departure/Arrival_time_convenient_sqr</th>\n",
       "      <th>Age_divided_at_60</th>\n",
       "      <th>Age_30</th>\n",
       "      <th>Age_25</th>\n",
       "    </tr>\n",
       "  </thead>\n",
       "  <tbody>\n",
       "    <tr>\n",
       "      <th>0</th>\n",
       "      <td>117135</td>\n",
       "      <td>satisfied</td>\n",
       "      <td>Male</td>\n",
       "      <td>disloyal Customer</td>\n",
       "      <td>56</td>\n",
       "      <td>Personal Travel</td>\n",
       "      <td>Eco</td>\n",
       "      <td>369</td>\n",
       "      <td>0</td>\n",
       "      <td>2</td>\n",
       "      <td>...</td>\n",
       "      <td>0</td>\n",
       "      <td>0</td>\n",
       "      <td>1</td>\n",
       "      <td>0</td>\n",
       "      <td>1</td>\n",
       "      <td>1</td>\n",
       "      <td>4</td>\n",
       "      <td>1</td>\n",
       "      <td>0</td>\n",
       "      <td>0</td>\n",
       "    </tr>\n",
       "  </tbody>\n",
       "</table>\n",
       "<p>1 rows × 38 columns</p>\n",
       "</div>"
      ],
      "text/plain": [
       "       id satisfaction_v2 Gender      Customer_Type  Age   Type_of_Travel  \\\n",
       "0  117135       satisfied   Male  disloyal Customer   56  Personal Travel   \n",
       "\n",
       "  Class  Flight_Distance  Inflight_wifi_service  \\\n",
       "0   Eco              369                      0   \n",
       "\n",
       "   Departure/Arrival_time_convenient  ...  Class_Eco_Plus  Gender_Female  \\\n",
       "0                                  2  ...               0              0   \n",
       "\n",
       "   Gender_Male  Customer_Type_Loyal_Customer  Customer_Type_disloyal_Customer  \\\n",
       "0            1                             0                                1   \n",
       "\n",
       "   Type_of_TravelR  Departure/Arrival_time_convenient_sqr  Age_divided_at_60  \\\n",
       "0                1                                      4                  1   \n",
       "\n",
       "   Age_30  Age_25  \n",
       "0       0       0  \n",
       "\n",
       "[1 rows x 38 columns]"
      ]
     },
     "execution_count": 24,
     "metadata": {},
     "output_type": "execute_result"
    }
   ],
   "source": [
    "sat.head(1)"
   ]
  },
  {
   "cell_type": "markdown",
   "id": "7f94fd6e",
   "metadata": {},
   "source": [
    "## Baggage Handling"
   ]
  },
  {
   "cell_type": "code",
   "execution_count": 25,
   "id": "a86b63f9",
   "metadata": {},
   "outputs": [
    {
     "data": {
      "text/plain": [
       "<AxesSubplot:xlabel='Baggage_handling', ylabel='Count'>"
      ]
     },
     "execution_count": 25,
     "metadata": {},
     "output_type": "execute_result"
    },
    {
     "data": {
      "image/png": "[encoded data removed]",
      "text/plain": [
       "<Figure size 432x288 with 1 Axes>"
      ]
     },
     "metadata": {
      "needs_background": "light"
     },
     "output_type": "display_data"
    }
   ],
   "source": [
    "sns.histplot(sat['Baggage_handling'])"
   ]
  },
  {
   "cell_type": "code",
   "execution_count": 26,
   "id": "d4f784ec",
   "metadata": {},
   "outputs": [],
   "source": [
    "sat['Baggage_handlingCube'] = sat['Baggage_handling'] **3"
   ]
  },
  {
   "cell_type": "code",
   "execution_count": 27,
   "id": "b097ec69",
   "metadata": {},
   "outputs": [
    {
     "data": {
      "text/plain": [
       "<AxesSubplot:xlabel='Baggage_handlingCube', ylabel='Count'>"
      ]
     },
     "execution_count": 27,
     "metadata": {},
     "output_type": "execute_result"
    },
    {
     "data": {
      "image/png": "[encoded data removed]",
      "text/plain": [
       "<Figure size 432x288 with 1 Axes>"
      ]
     },
     "metadata": {
      "needs_background": "light"
     },
     "output_type": "display_data"
    }
   ],
   "source": [
    "sns.histplot(sat['Baggage_handlingCube'])"
   ]
  },
  {
   "cell_type": "code",
   "execution_count": 28,
   "id": "4dbd1ac1",
   "metadata": {},
   "outputs": [
    {
     "data": {
      "text/plain": [
       "'Baggage_handlingCube ~ C(Type_of_Travel_Business_travel) + C(Type_of_Travel_Personal_Travel)'"
      ]
     },
     "execution_count": 28,
     "metadata": {},
     "output_type": "execute_result"
    }
   ],
   "source": [
    "dv = \"Baggage_handlingCube\"\n",
    "cols = list(dummy.columns) + ['Age_divided_at_60']\n",
    "string_var = dv + \" ~ C(\" + cols[0] + \")\"\n",
    "for col in cols[1:2]:\n",
    "    string_var = string_var + \" + C(\" + col +\")\"\n",
    "string_var"
   ]
  },
  {
   "cell_type": "code",
   "execution_count": 29,
   "id": "d9cd2919",
   "metadata": {},
   "outputs": [
    {
     "data": {
      "text/plain": [
       "['Type_of_Travel_Business_travel',\n",
       " 'Type_of_Travel_Personal_Travel',\n",
       " 'Class_Business',\n",
       " 'Class_Eco',\n",
       " 'Class_Eco_Plus',\n",
       " 'Gender_Female',\n",
       " 'Gender_Male',\n",
       " 'Customer_Type_Loyal_Customer',\n",
       " 'Customer_Type_disloyal_Customer',\n",
       " 'Age_divided_at_60']"
      ]
     },
     "execution_count": 29,
     "metadata": {},
     "output_type": "execute_result"
    }
   ],
   "source": [
    "cols"
   ]
  },
  {
   "cell_type": "code",
   "execution_count": 30,
   "id": "43278652",
   "metadata": {},
   "outputs": [],
   "source": [
    "model =ols (string_var, data =sat).fit()"
   ]
  },
  {
   "cell_type": "code",
   "execution_count": 31,
   "id": "c3d5b03b",
   "metadata": {},
   "outputs": [
    {
     "data": {
      "text/html": [
       "<div>\n",
       "<style scoped>\n",
       "    .dataframe tbody tr th:only-of-type {\n",
       "        vertical-align: middle;\n",
       "    }\n",
       "\n",
       "    .dataframe tbody tr th {\n",
       "        vertical-align: top;\n",
       "    }\n",
       "\n",
       "    .dataframe thead th {\n",
       "        text-align: right;\n",
       "    }\n",
       "</style>\n",
       "<table border=\"1\" class=\"dataframe\">\n",
       "  <thead>\n",
       "    <tr style=\"text-align: right;\">\n",
       "      <th></th>\n",
       "      <th>sum_sq</th>\n",
       "      <th>df</th>\n",
       "      <th>F</th>\n",
       "      <th>PR(&gt;F)</th>\n",
       "    </tr>\n",
       "  </thead>\n",
       "  <tbody>\n",
       "    <tr>\n",
       "      <th>C(Type_of_Travel_Business_travel)</th>\n",
       "      <td>5.968749e+07</td>\n",
       "      <td>1.0</td>\n",
       "      <td>32073.995156</td>\n",
       "      <td>0.0</td>\n",
       "    </tr>\n",
       "    <tr>\n",
       "      <th>C(Type_of_Travel_Personal_Travel)</th>\n",
       "      <td>3.128750e+07</td>\n",
       "      <td>1.0</td>\n",
       "      <td>16812.818615</td>\n",
       "      <td>0.0</td>\n",
       "    </tr>\n",
       "    <tr>\n",
       "      <th>Residual</th>\n",
       "      <td>2.416940e+08</td>\n",
       "      <td>129878.0</td>\n",
       "      <td>NaN</td>\n",
       "      <td>NaN</td>\n",
       "    </tr>\n",
       "  </tbody>\n",
       "</table>\n",
       "</div>"
      ],
      "text/plain": [
       "                                         sum_sq        df             F  \\\n",
       "C(Type_of_Travel_Business_travel)  5.968749e+07       1.0  32073.995156   \n",
       "C(Type_of_Travel_Personal_Travel)  3.128750e+07       1.0  16812.818615   \n",
       "Residual                           2.416940e+08  129878.0           NaN   \n",
       "\n",
       "                                   PR(>F)  \n",
       "C(Type_of_Travel_Business_travel)     0.0  \n",
       "C(Type_of_Travel_Personal_Travel)     0.0  \n",
       "Residual                              NaN  "
      ]
     },
     "execution_count": 31,
     "metadata": {},
     "output_type": "execute_result"
    }
   ],
   "source": [
    "anova = sm.stats.anova_lm(model, typ=2)\n",
    "anova"
   ]
  },
  {
   "cell_type": "markdown",
   "id": "0dd06e7a",
   "metadata": {},
   "source": [
    "## Age 30"
   ]
  },
  {
   "cell_type": "code",
   "execution_count": 32,
   "id": "d6a1948f",
   "metadata": {},
   "outputs": [
    {
     "data": {
      "text/html": [
       "<div>\n",
       "<style scoped>\n",
       "    .dataframe tbody tr th:only-of-type {\n",
       "        vertical-align: middle;\n",
       "    }\n",
       "\n",
       "    .dataframe tbody tr th {\n",
       "        vertical-align: top;\n",
       "    }\n",
       "\n",
       "    .dataframe thead th {\n",
       "        text-align: right;\n",
       "    }\n",
       "</style>\n",
       "<table border=\"1\" class=\"dataframe\">\n",
       "  <thead>\n",
       "    <tr style=\"text-align: right;\">\n",
       "      <th></th>\n",
       "      <th>sum_sq</th>\n",
       "      <th>df</th>\n",
       "      <th>F</th>\n",
       "      <th>PR(&gt;F)</th>\n",
       "    </tr>\n",
       "  </thead>\n",
       "  <tbody>\n",
       "    <tr>\n",
       "      <th>C(Age_30)</th>\n",
       "      <td>780.464396</td>\n",
       "      <td>1.0</td>\n",
       "      <td>581.005895</td>\n",
       "      <td>4.341179e-128</td>\n",
       "    </tr>\n",
       "    <tr>\n",
       "      <th>C(Class_Business)</th>\n",
       "      <td>5998.169570</td>\n",
       "      <td>1.0</td>\n",
       "      <td>4465.254147</td>\n",
       "      <td>0.000000e+00</td>\n",
       "    </tr>\n",
       "    <tr>\n",
       "      <th>C(Age_30):C(Class_Business)</th>\n",
       "      <td>212.918457</td>\n",
       "      <td>1.0</td>\n",
       "      <td>158.504192</td>\n",
       "      <td>2.521874e-36</td>\n",
       "    </tr>\n",
       "    <tr>\n",
       "      <th>Residual</th>\n",
       "      <td>174462.246794</td>\n",
       "      <td>129876.0</td>\n",
       "      <td>NaN</td>\n",
       "      <td>NaN</td>\n",
       "    </tr>\n",
       "  </tbody>\n",
       "</table>\n",
       "</div>"
      ],
      "text/plain": [
       "                                    sum_sq        df            F  \\\n",
       "C(Age_30)                       780.464396       1.0   581.005895   \n",
       "C(Class_Business)              5998.169570       1.0  4465.254147   \n",
       "C(Age_30):C(Class_Business)     212.918457       1.0   158.504192   \n",
       "Residual                     174462.246794  129876.0          NaN   \n",
       "\n",
       "                                    PR(>F)  \n",
       "C(Age_30)                    4.341179e-128  \n",
       "C(Class_Business)             0.000000e+00  \n",
       "C(Age_30):C(Class_Business)   2.521874e-36  \n",
       "Residual                               NaN  "
      ]
     },
     "execution_count": 32,
     "metadata": {},
     "output_type": "execute_result"
    }
   ],
   "source": [
    "dv = \"Baggage_handling\"\n",
    "cols = list(dummy.columns)[2:5] + ['Age_30']\n",
    "string_var = dv + \" ~ C(\" + cols[0] + \")\"\n",
    "for col in cols:\n",
    "    string_var = string_var + \" + C(\" + col +\")\"\n",
    "\n",
    "\n",
    "string_var\n",
    "\n",
    "string_var = 'Baggage_handling ~ C(Age_30):C(Class_Business) + C(Age_30) + C(Class_Business)' \n",
    "model =ols (string_var, data =sat).fit()\n",
    "\n",
    "anova = sm.stats.anova_lm(model, typ=2)\n",
    "anova"
   ]
  },
  {
   "cell_type": "code",
   "execution_count": 33,
   "id": "5639bb2c",
   "metadata": {},
   "outputs": [
    {
     "data": {
      "text/plain": [
       "<AxesSubplot:xlabel='Age_30', ylabel='Baggage_handling'>"
      ]
     },
     "execution_count": 33,
     "metadata": {},
     "output_type": "execute_result"
    },
    {
     "data": {
      "image/png": "[encoded data removed]",
      "text/plain": [
       "<Figure size 432x288 with 1 Axes>"
      ]
     },
     "metadata": {
      "needs_background": "light"
     },
     "output_type": "display_data"
    }
   ],
   "source": [
    "sns.boxplot(data=sat, x = 'Age_30', y= 'Baggage_handling')"
   ]
  },
  {
   "cell_type": "markdown",
   "id": "e9d5ae74",
   "metadata": {},
   "source": [
    "## class and age and type of travel have effect"
   ]
  },
  {
   "cell_type": "markdown",
   "id": "9fd7e0d6",
   "metadata": {},
   "source": [
    "##  Check in service"
   ]
  },
  {
   "cell_type": "code",
   "execution_count": 34,
   "id": "743d6896",
   "metadata": {},
   "outputs": [
    {
     "data": {
      "text/plain": [
       "<AxesSubplot:xlabel='Checkin_service', ylabel='Count'>"
      ]
     },
     "execution_count": 34,
     "metadata": {},
     "output_type": "execute_result"
    },
    {
     "data": {
      "image/png": "[encoded data removed]",
      "text/plain": [
       "<Figure size 432x288 with 1 Axes>"
      ]
     },
     "metadata": {
      "needs_background": "light"
     },
     "output_type": "display_data"
    }
   ],
   "source": [
    "sns.histplot(sat['Checkin_service'])"
   ]
  },
  {
   "cell_type": "code",
   "execution_count": 35,
   "id": "b238b67e",
   "metadata": {},
   "outputs": [
    {
     "data": {
      "text/plain": [
       "<AxesSubplot:xlabel='Checkin_serviceSQ', ylabel='Count'>"
      ]
     },
     "execution_count": 35,
     "metadata": {},
     "output_type": "execute_result"
    },
    {
     "data": {
      "image/png": "[encoded data removed]",
      "text/plain": [
       "<Figure size 432x288 with 1 Axes>"
      ]
     },
     "metadata": {
      "needs_background": "light"
     },
     "output_type": "display_data"
    }
   ],
   "source": [
    "sat['Checkin_serviceSQ'] = sat['Checkin_service'] ** 2\n",
    "sns.histplot(sat['Checkin_serviceSQ'])"
   ]
  },
  {
   "cell_type": "code",
   "execution_count": 36,
   "id": "1146016e",
   "metadata": {},
   "outputs": [
    {
     "data": {
      "text/html": [
       "<div>\n",
       "<style scoped>\n",
       "    .dataframe tbody tr th:only-of-type {\n",
       "        vertical-align: middle;\n",
       "    }\n",
       "\n",
       "    .dataframe tbody tr th {\n",
       "        vertical-align: top;\n",
       "    }\n",
       "\n",
       "    .dataframe thead th {\n",
       "        text-align: right;\n",
       "    }\n",
       "</style>\n",
       "<table border=\"1\" class=\"dataframe\">\n",
       "  <thead>\n",
       "    <tr style=\"text-align: right;\">\n",
       "      <th></th>\n",
       "      <th>sum_sq</th>\n",
       "      <th>df</th>\n",
       "      <th>F</th>\n",
       "      <th>PR(&gt;F)</th>\n",
       "    </tr>\n",
       "  </thead>\n",
       "  <tbody>\n",
       "    <tr>\n",
       "      <th>C(Type_of_Travel_Business_travel)</th>\n",
       "      <td>2.768561e+04</td>\n",
       "      <td>1.0</td>\n",
       "      <td>455.662734</td>\n",
       "      <td>6.305169e-101</td>\n",
       "    </tr>\n",
       "    <tr>\n",
       "      <th>C(Type_of_Travel_Personal_Travel)</th>\n",
       "      <td>5.940984e+05</td>\n",
       "      <td>1.0</td>\n",
       "      <td>9777.950511</td>\n",
       "      <td>0.000000e+00</td>\n",
       "    </tr>\n",
       "    <tr>\n",
       "      <th>C(Class_Business)</th>\n",
       "      <td>5.856583e+05</td>\n",
       "      <td>1.0</td>\n",
       "      <td>9639.039054</td>\n",
       "      <td>0.000000e+00</td>\n",
       "    </tr>\n",
       "    <tr>\n",
       "      <th>C(Class_Eco)</th>\n",
       "      <td>1.915079e+03</td>\n",
       "      <td>1.0</td>\n",
       "      <td>31.519262</td>\n",
       "      <td>1.978733e-08</td>\n",
       "    </tr>\n",
       "    <tr>\n",
       "      <th>C(Class_Eco_Plus)</th>\n",
       "      <td>1.827820e+01</td>\n",
       "      <td>1.0</td>\n",
       "      <td>0.300831</td>\n",
       "      <td>5.833627e-01</td>\n",
       "    </tr>\n",
       "    <tr>\n",
       "      <th>C(Gender_Female)</th>\n",
       "      <td>4.000428e+05</td>\n",
       "      <td>1.0</td>\n",
       "      <td>6584.092610</td>\n",
       "      <td>0.000000e+00</td>\n",
       "    </tr>\n",
       "    <tr>\n",
       "      <th>C(Gender_Male)</th>\n",
       "      <td>4.310076e+05</td>\n",
       "      <td>1.0</td>\n",
       "      <td>7093.725398</td>\n",
       "      <td>0.000000e+00</td>\n",
       "    </tr>\n",
       "    <tr>\n",
       "      <th>C(Customer_Type_Loyal_Customer)</th>\n",
       "      <td>2.128784e+05</td>\n",
       "      <td>1.0</td>\n",
       "      <td>3503.652975</td>\n",
       "      <td>0.000000e+00</td>\n",
       "    </tr>\n",
       "    <tr>\n",
       "      <th>C(Customer_Type_disloyal_Customer)</th>\n",
       "      <td>2.583733e+05</td>\n",
       "      <td>1.0</td>\n",
       "      <td>4252.429384</td>\n",
       "      <td>0.000000e+00</td>\n",
       "    </tr>\n",
       "    <tr>\n",
       "      <th>C(Age_divided_at_60)</th>\n",
       "      <td>5.338908e+03</td>\n",
       "      <td>1.0</td>\n",
       "      <td>87.870248</td>\n",
       "      <td>7.096205e-21</td>\n",
       "    </tr>\n",
       "    <tr>\n",
       "      <th>Residual</th>\n",
       "      <td>7.890952e+06</td>\n",
       "      <td>129873.0</td>\n",
       "      <td>NaN</td>\n",
       "      <td>NaN</td>\n",
       "    </tr>\n",
       "  </tbody>\n",
       "</table>\n",
       "</div>"
      ],
      "text/plain": [
       "                                          sum_sq        df            F  \\\n",
       "C(Type_of_Travel_Business_travel)   2.768561e+04       1.0   455.662734   \n",
       "C(Type_of_Travel_Personal_Travel)   5.940984e+05       1.0  9777.950511   \n",
       "C(Class_Business)                   5.856583e+05       1.0  9639.039054   \n",
       "C(Class_Eco)                        1.915079e+03       1.0    31.519262   \n",
       "C(Class_Eco_Plus)                   1.827820e+01       1.0     0.300831   \n",
       "C(Gender_Female)                    4.000428e+05       1.0  6584.092610   \n",
       "C(Gender_Male)                      4.310076e+05       1.0  7093.725398   \n",
       "C(Customer_Type_Loyal_Customer)     2.128784e+05       1.0  3503.652975   \n",
       "C(Customer_Type_disloyal_Customer)  2.583733e+05       1.0  4252.429384   \n",
       "C(Age_divided_at_60)                5.338908e+03       1.0    87.870248   \n",
       "Residual                            7.890952e+06  129873.0          NaN   \n",
       "\n",
       "                                           PR(>F)  \n",
       "C(Type_of_Travel_Business_travel)   6.305169e-101  \n",
       "C(Type_of_Travel_Personal_Travel)    0.000000e+00  \n",
       "C(Class_Business)                    0.000000e+00  \n",
       "C(Class_Eco)                         1.978733e-08  \n",
       "C(Class_Eco_Plus)                    5.833627e-01  \n",
       "C(Gender_Female)                     0.000000e+00  \n",
       "C(Gender_Male)                       0.000000e+00  \n",
       "C(Customer_Type_Loyal_Customer)      0.000000e+00  \n",
       "C(Customer_Type_disloyal_Customer)   0.000000e+00  \n",
       "C(Age_divided_at_60)                 7.096205e-21  \n",
       "Residual                                      NaN  "
      ]
     },
     "execution_count": 36,
     "metadata": {},
     "output_type": "execute_result"
    }
   ],
   "source": [
    "dv = \"Checkin_serviceSQ\"\n",
    "cols = list(dummy.columns) + ['Age_divided_at_60']\n",
    "string_var = dv + \" ~ C(\" + cols[0] + \")\"\n",
    "for col in cols[1:]:\n",
    "    string_var = string_var + \" + C(\" + col +\")\"\n",
    "string_var\n",
    "\n",
    "model =ols (string_var, data =sat).fit()\n",
    "\n",
    "anova = sm.stats.anova_lm(model, typ=2)\n",
    "anova"
   ]
  },
  {
   "cell_type": "markdown",
   "id": "6acc6518",
   "metadata": {},
   "source": [
    "## Age and class sig dif"
   ]
  },
  {
   "cell_type": "markdown",
   "id": "8829951d",
   "metadata": {},
   "source": [
    "## Cleanliness"
   ]
  },
  {
   "cell_type": "code",
   "execution_count": 37,
   "id": "30ca76a8",
   "metadata": {},
   "outputs": [
    {
     "data": {
      "text/plain": [
       "<AxesSubplot:xlabel='Cleanliness', ylabel='Count'>"
      ]
     },
     "execution_count": 37,
     "metadata": {},
     "output_type": "execute_result"
    },
    {
     "data": {
      "image/png": "[encoded data removed]",
      "text/plain": [
       "<Figure size 432x288 with 1 Axes>"
      ]
     },
     "metadata": {
      "needs_background": "light"
     },
     "output_type": "display_data"
    }
   ],
   "source": [
    "sns.histplot(sat['Cleanliness'])"
   ]
  },
  {
   "cell_type": "code",
   "execution_count": 38,
   "id": "1e3d146e",
   "metadata": {},
   "outputs": [
    {
     "data": {
      "text/plain": [
       "<AxesSubplot:xlabel='CleanlinessSQ', ylabel='Count'>"
      ]
     },
     "execution_count": 38,
     "metadata": {},
     "output_type": "execute_result"
    },
    {
     "data": {
      "image/png": "[encoded data removed]",
      "text/plain": [
       "<Figure size 432x288 with 1 Axes>"
      ]
     },
     "metadata": {
      "needs_background": "light"
     },
     "output_type": "display_data"
    }
   ],
   "source": [
    "sat['CleanlinessSQ'] = sat['Cleanliness'] ** 2\n",
    "sns.histplot(sat['CleanlinessSQ'])"
   ]
  },
  {
   "cell_type": "code",
   "execution_count": 39,
   "id": "8cc4a464",
   "metadata": {},
   "outputs": [
    {
     "data": {
      "text/html": [
       "<div>\n",
       "<style scoped>\n",
       "    .dataframe tbody tr th:only-of-type {\n",
       "        vertical-align: middle;\n",
       "    }\n",
       "\n",
       "    .dataframe tbody tr th {\n",
       "        vertical-align: top;\n",
       "    }\n",
       "\n",
       "    .dataframe thead th {\n",
       "        text-align: right;\n",
       "    }\n",
       "</style>\n",
       "<table border=\"1\" class=\"dataframe\">\n",
       "  <thead>\n",
       "    <tr style=\"text-align: right;\">\n",
       "      <th></th>\n",
       "      <th>sum_sq</th>\n",
       "      <th>df</th>\n",
       "      <th>F</th>\n",
       "      <th>PR(&gt;F)</th>\n",
       "    </tr>\n",
       "  </thead>\n",
       "  <tbody>\n",
       "    <tr>\n",
       "      <th>C(Type_of_Travel_Business_travel)</th>\n",
       "      <td>3.046866e+05</td>\n",
       "      <td>1.0</td>\n",
       "      <td>4547.775059</td>\n",
       "      <td>0.000000e+00</td>\n",
       "    </tr>\n",
       "    <tr>\n",
       "      <th>C(Type_of_Travel_Personal_Travel)</th>\n",
       "      <td>1.135143e+05</td>\n",
       "      <td>1.0</td>\n",
       "      <td>1694.323217</td>\n",
       "      <td>0.000000e+00</td>\n",
       "    </tr>\n",
       "    <tr>\n",
       "      <th>C(Class_Business)</th>\n",
       "      <td>2.067606e+05</td>\n",
       "      <td>1.0</td>\n",
       "      <td>3086.125080</td>\n",
       "      <td>0.000000e+00</td>\n",
       "    </tr>\n",
       "    <tr>\n",
       "      <th>C(Class_Eco)</th>\n",
       "      <td>3.010131e+04</td>\n",
       "      <td>1.0</td>\n",
       "      <td>449.294529</td>\n",
       "      <td>1.516233e-99</td>\n",
       "    </tr>\n",
       "    <tr>\n",
       "      <th>C(Class_Eco_Plus)</th>\n",
       "      <td>6.452306e+03</td>\n",
       "      <td>1.0</td>\n",
       "      <td>96.307618</td>\n",
       "      <td>1.001587e-22</td>\n",
       "    </tr>\n",
       "    <tr>\n",
       "      <th>C(Gender_Female)</th>\n",
       "      <td>3.413625e+05</td>\n",
       "      <td>1.0</td>\n",
       "      <td>5095.202441</td>\n",
       "      <td>0.000000e+00</td>\n",
       "    </tr>\n",
       "    <tr>\n",
       "      <th>C(Gender_Male)</th>\n",
       "      <td>3.420314e+05</td>\n",
       "      <td>1.0</td>\n",
       "      <td>5105.186357</td>\n",
       "      <td>0.000000e+00</td>\n",
       "    </tr>\n",
       "    <tr>\n",
       "      <th>C(Customer_Type_Loyal_Customer)</th>\n",
       "      <td>5.476528e+05</td>\n",
       "      <td>1.0</td>\n",
       "      <td>8174.307971</td>\n",
       "      <td>0.000000e+00</td>\n",
       "    </tr>\n",
       "    <tr>\n",
       "      <th>C(Customer_Type_disloyal_Customer)</th>\n",
       "      <td>4.822616e+04</td>\n",
       "      <td>1.0</td>\n",
       "      <td>719.827389</td>\n",
       "      <td>3.953414e-158</td>\n",
       "    </tr>\n",
       "    <tr>\n",
       "      <th>C(Age_divided_at_60)</th>\n",
       "      <td>4.931024e+03</td>\n",
       "      <td>1.0</td>\n",
       "      <td>73.600844</td>\n",
       "      <td>9.665298e-18</td>\n",
       "    </tr>\n",
       "    <tr>\n",
       "      <th>Residual</th>\n",
       "      <td>8.701081e+06</td>\n",
       "      <td>129873.0</td>\n",
       "      <td>NaN</td>\n",
       "      <td>NaN</td>\n",
       "    </tr>\n",
       "  </tbody>\n",
       "</table>\n",
       "</div>"
      ],
      "text/plain": [
       "                                          sum_sq        df            F  \\\n",
       "C(Type_of_Travel_Business_travel)   3.046866e+05       1.0  4547.775059   \n",
       "C(Type_of_Travel_Personal_Travel)   1.135143e+05       1.0  1694.323217   \n",
       "C(Class_Business)                   2.067606e+05       1.0  3086.125080   \n",
       "C(Class_Eco)                        3.010131e+04       1.0   449.294529   \n",
       "C(Class_Eco_Plus)                   6.452306e+03       1.0    96.307618   \n",
       "C(Gender_Female)                    3.413625e+05       1.0  5095.202441   \n",
       "C(Gender_Male)                      3.420314e+05       1.0  5105.186357   \n",
       "C(Customer_Type_Loyal_Customer)     5.476528e+05       1.0  8174.307971   \n",
       "C(Customer_Type_disloyal_Customer)  4.822616e+04       1.0   719.827389   \n",
       "C(Age_divided_at_60)                4.931024e+03       1.0    73.600844   \n",
       "Residual                            8.701081e+06  129873.0          NaN   \n",
       "\n",
       "                                           PR(>F)  \n",
       "C(Type_of_Travel_Business_travel)    0.000000e+00  \n",
       "C(Type_of_Travel_Personal_Travel)    0.000000e+00  \n",
       "C(Class_Business)                    0.000000e+00  \n",
       "C(Class_Eco)                         1.516233e-99  \n",
       "C(Class_Eco_Plus)                    1.001587e-22  \n",
       "C(Gender_Female)                     0.000000e+00  \n",
       "C(Gender_Male)                       0.000000e+00  \n",
       "C(Customer_Type_Loyal_Customer)      0.000000e+00  \n",
       "C(Customer_Type_disloyal_Customer)  3.953414e-158  \n",
       "C(Age_divided_at_60)                 9.665298e-18  \n",
       "Residual                                      NaN  "
      ]
     },
     "execution_count": 39,
     "metadata": {},
     "output_type": "execute_result"
    }
   ],
   "source": [
    "dv = \"CleanlinessSQ\"\n",
    "cols = list(dummy.columns) + ['Age_divided_at_60']\n",
    "string_var = dv + \" ~ C(\" + cols[0] + \")\"\n",
    "for col in cols[1:]:\n",
    "    string_var = string_var + \" + C(\" + col +\")\"\n",
    "string_var\n",
    "\n",
    "model =ols (string_var, data =sat).fit()\n",
    "\n",
    "anova = sm.stats.anova_lm(model, typ=2)\n",
    "anova"
   ]
  },
  {
   "cell_type": "markdown",
   "id": "220fd47a",
   "metadata": {},
   "source": [
    "## Significant in loyalty and class"
   ]
  },
  {
   "cell_type": "code",
   "execution_count": 40,
   "id": "b7e2529b",
   "metadata": {},
   "outputs": [
    {
     "data": {
      "text/html": [
       "<div>\n",
       "<style scoped>\n",
       "    .dataframe tbody tr th:only-of-type {\n",
       "        vertical-align: middle;\n",
       "    }\n",
       "\n",
       "    .dataframe tbody tr th {\n",
       "        vertical-align: top;\n",
       "    }\n",
       "\n",
       "    .dataframe thead th {\n",
       "        text-align: right;\n",
       "    }\n",
       "</style>\n",
       "<table border=\"1\" class=\"dataframe\">\n",
       "  <thead>\n",
       "    <tr style=\"text-align: right;\">\n",
       "      <th></th>\n",
       "      <th>id</th>\n",
       "      <th>satisfaction_v2</th>\n",
       "      <th>Gender</th>\n",
       "      <th>Customer_Type</th>\n",
       "      <th>Age</th>\n",
       "      <th>Type_of_Travel</th>\n",
       "      <th>Class</th>\n",
       "      <th>Flight_Distance</th>\n",
       "      <th>Inflight_wifi_service</th>\n",
       "      <th>Departure/Arrival_time_convenient</th>\n",
       "      <th>...</th>\n",
       "      <th>Customer_Type_Loyal_Customer</th>\n",
       "      <th>Customer_Type_disloyal_Customer</th>\n",
       "      <th>Type_of_TravelR</th>\n",
       "      <th>Departure/Arrival_time_convenient_sqr</th>\n",
       "      <th>Age_divided_at_60</th>\n",
       "      <th>Age_30</th>\n",
       "      <th>Age_25</th>\n",
       "      <th>Baggage_handlingCube</th>\n",
       "      <th>Checkin_serviceSQ</th>\n",
       "      <th>CleanlinessSQ</th>\n",
       "    </tr>\n",
       "  </thead>\n",
       "  <tbody>\n",
       "    <tr>\n",
       "      <th>0</th>\n",
       "      <td>117135</td>\n",
       "      <td>satisfied</td>\n",
       "      <td>Male</td>\n",
       "      <td>disloyal Customer</td>\n",
       "      <td>56</td>\n",
       "      <td>Personal Travel</td>\n",
       "      <td>Eco</td>\n",
       "      <td>369</td>\n",
       "      <td>0</td>\n",
       "      <td>2</td>\n",
       "      <td>...</td>\n",
       "      <td>0</td>\n",
       "      <td>1</td>\n",
       "      <td>1</td>\n",
       "      <td>4</td>\n",
       "      <td>1</td>\n",
       "      <td>0</td>\n",
       "      <td>0</td>\n",
       "      <td>27</td>\n",
       "      <td>9</td>\n",
       "      <td>9</td>\n",
       "    </tr>\n",
       "  </tbody>\n",
       "</table>\n",
       "<p>1 rows × 41 columns</p>\n",
       "</div>"
      ],
      "text/plain": [
       "       id satisfaction_v2 Gender      Customer_Type  Age   Type_of_Travel  \\\n",
       "0  117135       satisfied   Male  disloyal Customer   56  Personal Travel   \n",
       "\n",
       "  Class  Flight_Distance  Inflight_wifi_service  \\\n",
       "0   Eco              369                      0   \n",
       "\n",
       "   Departure/Arrival_time_convenient  ...  Customer_Type_Loyal_Customer  \\\n",
       "0                                  2  ...                             0   \n",
       "\n",
       "   Customer_Type_disloyal_Customer  Type_of_TravelR  \\\n",
       "0                                1                1   \n",
       "\n",
       "   Departure/Arrival_time_convenient_sqr  Age_divided_at_60  Age_30  Age_25  \\\n",
       "0                                      4                  1       0       0   \n",
       "\n",
       "   Baggage_handlingCube  Checkin_serviceSQ  CleanlinessSQ  \n",
       "0                    27                  9              9  \n",
       "\n",
       "[1 rows x 41 columns]"
      ]
     },
     "execution_count": 40,
     "metadata": {},
     "output_type": "execute_result"
    }
   ],
   "source": [
    "sat.head(1)"
   ]
  },
  {
   "cell_type": "markdown",
   "id": "77a76bba",
   "metadata": {},
   "source": [
    " ## Food and Drink"
   ]
  },
  {
   "cell_type": "code",
   "execution_count": 41,
   "id": "504288d2",
   "metadata": {},
   "outputs": [
    {
     "data": {
      "text/plain": [
       "<AxesSubplot:xlabel='Food_and_drink', ylabel='Count'>"
      ]
     },
     "execution_count": 41,
     "metadata": {},
     "output_type": "execute_result"
    },
    {
     "data": {
      "image/png": "[encoded data removed]",
      "text/plain": [
       "<Figure size 432x288 with 1 Axes>"
      ]
     },
     "metadata": {
      "needs_background": "light"
     },
     "output_type": "display_data"
    }
   ],
   "source": [
    "sns.histplot(sat['Food_and_drink'])"
   ]
  },
  {
   "cell_type": "code",
   "execution_count": 42,
   "id": "f17be013",
   "metadata": {},
   "outputs": [
    {
     "data": {
      "text/plain": [
       "<AxesSubplot:xlabel='Food_and_drinkSQ', ylabel='Count'>"
      ]
     },
     "execution_count": 42,
     "metadata": {},
     "output_type": "execute_result"
    },
    {
     "data": {
      "image/png": "[encoded data removed]",
      "text/plain": [
       "<Figure size 432x288 with 1 Axes>"
      ]
     },
     "metadata": {
      "needs_background": "light"
     },
     "output_type": "display_data"
    }
   ],
   "source": [
    "sat['Food_and_drinkSQ'] = sat['Food_and_drink'] ** 3\n",
    "sns.histplot(sat['Food_and_drinkSQ'])"
   ]
  },
  {
   "cell_type": "code",
   "execution_count": 85,
   "id": "e9483dcd",
   "metadata": {},
   "outputs": [
    {
     "data": {
      "text/plain": [
       "BartlettResult(statistic=124078.68298372463, pvalue=0.0)"
      ]
     },
     "execution_count": 85,
     "metadata": {},
     "output_type": "execute_result"
    }
   ],
   "source": [
    "scipy.stats.bartlett(sat['Food_and_drink'], sat['Type_of_Travel_Business_travel'])"
   ]
  },
  {
   "cell_type": "code",
   "execution_count": 80,
   "id": "c09d0130",
   "metadata": {},
   "outputs": [
    {
     "data": {
      "text/html": [
       "<div>\n",
       "<style scoped>\n",
       "    .dataframe tbody tr th:only-of-type {\n",
       "        vertical-align: middle;\n",
       "    }\n",
       "\n",
       "    .dataframe tbody tr th {\n",
       "        vertical-align: top;\n",
       "    }\n",
       "\n",
       "    .dataframe thead th {\n",
       "        text-align: right;\n",
       "    }\n",
       "</style>\n",
       "<table border=\"1\" class=\"dataframe\">\n",
       "  <thead>\n",
       "    <tr style=\"text-align: right;\">\n",
       "      <th></th>\n",
       "      <th>sum_sq</th>\n",
       "      <th>df</th>\n",
       "      <th>F</th>\n",
       "      <th>PR(&gt;F)</th>\n",
       "    </tr>\n",
       "  </thead>\n",
       "  <tbody>\n",
       "    <tr>\n",
       "      <th>C(Type_of_Travel)</th>\n",
       "      <td>1093.260260</td>\n",
       "      <td>1.0</td>\n",
       "      <td>621.058391</td>\n",
       "      <td>9.247312e-137</td>\n",
       "    </tr>\n",
       "    <tr>\n",
       "      <th>Residual</th>\n",
       "      <td>228626.580085</td>\n",
       "      <td>129878.0</td>\n",
       "      <td>NaN</td>\n",
       "      <td>NaN</td>\n",
       "    </tr>\n",
       "  </tbody>\n",
       "</table>\n",
       "</div>"
      ],
      "text/plain": [
       "                          sum_sq        df           F         PR(>F)\n",
       "C(Type_of_Travel)    1093.260260       1.0  621.058391  9.247312e-137\n",
       "Residual           228626.580085  129878.0         NaN            NaN"
      ]
     },
     "execution_count": 80,
     "metadata": {},
     "output_type": "execute_result"
    }
   ],
   "source": [
    "dv = \"Food_and_drink\"\n",
    "cols = list(dummy.columns) + ['Age_divided_at_60']\n",
    "string_var = dv + \" ~ C(\" + cols[0] + \")\"\n",
    "for col in list(cols[:2]) + [cols[0]]:\n",
    "    string_var = string_var + \" + C(\" + col +\")\"\n",
    "string_var\n",
    "\n",
    "string_var ='Food_and_drink ~ C(Type_of_Travel)'\n",
    "model =ols (string_var, data =sat).fit()\n",
    "\n",
    "anova = sm.stats.anova_lm(model, typ=2)\n",
    "anova"
   ]
  },
  {
   "cell_type": "markdown",
   "id": "cbad3956",
   "metadata": {},
   "source": [
    "## Not Significantly diff"
   ]
  },
  {
   "cell_type": "code",
   "execution_count": 70,
   "id": "7e8d3ab6",
   "metadata": {},
   "outputs": [
    {
     "data": {
      "text/html": [
       "<table class=\"simpletable\">\n",
       "<caption>OLS Regression Results</caption>\n",
       "<tr>\n",
       "  <th>Dep. Variable:</th>     <td>Food_and_drink</td>  <th>  R-squared:         </th>  <td>   0.005</td>  \n",
       "</tr>\n",
       "<tr>\n",
       "  <th>Model:</th>                   <td>OLS</td>       <th>  Adj. R-squared:    </th>  <td>   0.005</td>  \n",
       "</tr>\n",
       "<tr>\n",
       "  <th>Method:</th>             <td>Least Squares</td>  <th>  F-statistic:       </th>  <td>   621.1</td>  \n",
       "</tr>\n",
       "<tr>\n",
       "  <th>Date:</th>             <td>Thu, 02 Jun 2022</td> <th>  Prob (F-statistic):</th>  <td>9.25e-137</td> \n",
       "</tr>\n",
       "<tr>\n",
       "  <th>Time:</th>                 <td>12:34:25</td>     <th>  Log-Likelihood:    </th> <td>-2.2101e+05</td>\n",
       "</tr>\n",
       "<tr>\n",
       "  <th>No. Observations:</th>      <td>129880</td>      <th>  AIC:               </th>  <td>4.420e+05</td> \n",
       "</tr>\n",
       "<tr>\n",
       "  <th>Df Residuals:</th>          <td>129878</td>      <th>  BIC:               </th>  <td>4.421e+05</td> \n",
       "</tr>\n",
       "<tr>\n",
       "  <th>Df Model:</th>              <td>     1</td>      <th>                     </th>      <td> </td>     \n",
       "</tr>\n",
       "<tr>\n",
       "  <th>Covariance Type:</th>      <td>nonrobust</td>    <th>                     </th>      <td> </td>     \n",
       "</tr>\n",
       "</table>\n",
       "<table class=\"simpletable\">\n",
       "<tr>\n",
       "                     <td></td>                       <th>coef</th>     <th>std err</th>      <th>t</th>      <th>P>|t|</th>  <th>[0.025</th>    <th>0.975]</th>  \n",
       "</tr>\n",
       "<tr>\n",
       "  <th>Intercept</th>                              <td>    2.1113</td> <td>    0.003</td> <td>  795.291</td> <td> 0.000</td> <td>    2.106</td> <td>    2.117</td>\n",
       "</tr>\n",
       "<tr>\n",
       "  <th>C(Type_of_Travel_Business_travel)[T.1]</th> <td>    1.1549</td> <td>    0.004</td> <td>  313.282</td> <td> 0.000</td> <td>    1.148</td> <td>    1.162</td>\n",
       "</tr>\n",
       "<tr>\n",
       "  <th>C(Type_of_Travel_Personal_Travel)[T.1]</th> <td>    0.9564</td> <td>    0.005</td> <td>  205.555</td> <td> 0.000</td> <td>    0.947</td> <td>    0.966</td>\n",
       "</tr>\n",
       "</table>\n",
       "<table class=\"simpletable\">\n",
       "<tr>\n",
       "  <th>Omnibus:</th>       <td>70466.266</td> <th>  Durbin-Watson:     </th> <td>   1.775</td>\n",
       "</tr>\n",
       "<tr>\n",
       "  <th>Prob(Omnibus):</th>  <td> 0.000</td>   <th>  Jarque-Bera (JB):  </th> <td>7489.648</td>\n",
       "</tr>\n",
       "<tr>\n",
       "  <th>Skew:</th>           <td>-0.148</td>   <th>  Prob(JB):          </th> <td>    0.00</td>\n",
       "</tr>\n",
       "<tr>\n",
       "  <th>Kurtosis:</th>       <td> 1.861</td>   <th>  Cond. No.          </th> <td>3.81e+15</td>\n",
       "</tr>\n",
       "</table><br/><br/>Notes:<br/>[1] Standard Errors assume that the covariance matrix of the errors is correctly specified.<br/>[2] The smallest eigenvalue is 1.43e-26. This might indicate that there are<br/>strong multicollinearity problems or that the design matrix is singular."
      ],
      "text/plain": [
       "<class 'statsmodels.iolib.summary.Summary'>\n",
       "\"\"\"\n",
       "                            OLS Regression Results                            \n",
       "==============================================================================\n",
       "Dep. Variable:         Food_and_drink   R-squared:                       0.005\n",
       "Model:                            OLS   Adj. R-squared:                  0.005\n",
       "Method:                 Least Squares   F-statistic:                     621.1\n",
       "Date:                Thu, 02 Jun 2022   Prob (F-statistic):          9.25e-137\n",
       "Time:                        12:34:25   Log-Likelihood:            -2.2101e+05\n",
       "No. Observations:              129880   AIC:                         4.420e+05\n",
       "Df Residuals:                  129878   BIC:                         4.421e+05\n",
       "Df Model:                           1                                         \n",
       "Covariance Type:            nonrobust                                         \n",
       "==========================================================================================================\n",
       "                                             coef    std err          t      P>|t|      [0.025      0.975]\n",
       "----------------------------------------------------------------------------------------------------------\n",
       "Intercept                                  2.1113      0.003    795.291      0.000       2.106       2.117\n",
       "C(Type_of_Travel_Business_travel)[T.1]     1.1549      0.004    313.282      0.000       1.148       1.162\n",
       "C(Type_of_Travel_Personal_Travel)[T.1]     0.9564      0.005    205.555      0.000       0.947       0.966\n",
       "==============================================================================\n",
       "Omnibus:                    70466.266   Durbin-Watson:                   1.775\n",
       "Prob(Omnibus):                  0.000   Jarque-Bera (JB):             7489.648\n",
       "Skew:                          -0.148   Prob(JB):                         0.00\n",
       "Kurtosis:                       1.861   Cond. No.                     3.81e+15\n",
       "==============================================================================\n",
       "\n",
       "Notes:\n",
       "[1] Standard Errors assume that the covariance matrix of the errors is correctly specified.\n",
       "[2] The smallest eigenvalue is 1.43e-26. This might indicate that there are\n",
       "strong multicollinearity problems or that the design matrix is singular.\n",
       "\"\"\""
      ]
     },
     "execution_count": 70,
     "metadata": {},
     "output_type": "execute_result"
    }
   ],
   "source": [
    "model.summary()"
   ]
  },
  {
   "cell_type": "code",
   "execution_count": 79,
   "id": "5d95d4ff",
   "metadata": {},
   "outputs": [
    {
     "data": {
      "text/plain": [
       "<AxesSubplot:xlabel='Type_of_Travel', ylabel='Food_and_drink'>"
      ]
     },
     "execution_count": 79,
     "metadata": {},
     "output_type": "execute_result"
    },
    {
     "data": {
      "image/png": "[encoded data removed]",
      "text/plain": [
       "<Figure size 432x288 with 1 Axes>"
      ]
     },
     "metadata": {
      "needs_background": "light"
     },
     "output_type": "display_data"
    }
   ],
   "source": [
    "sns.boxplot(data=sat, x = 'Type_of_Travel', y = 'Food_and_drink')"
   ]
  },
  {
   "cell_type": "markdown",
   "id": "f6a6eb0c",
   "metadata": {},
   "source": [
    " ##  Inflight entertainment"
   ]
  },
  {
   "cell_type": "code",
   "execution_count": 44,
   "id": "4b4d0765",
   "metadata": {},
   "outputs": [
    {
     "data": {
      "text/plain": [
       "<AxesSubplot:xlabel='Inflight_entertainment', ylabel='Count'>"
      ]
     },
     "execution_count": 44,
     "metadata": {},
     "output_type": "execute_result"
    },
    {
     "data": {
      "image/png": "[encoded data removed]",
      "text/plain": [
       "<Figure size 432x288 with 1 Axes>"
      ]
     },
     "metadata": {
      "needs_background": "light"
     },
     "output_type": "display_data"
    }
   ],
   "source": [
    "sns.histplot(sat['Inflight_entertainment'])"
   ]
  },
  {
   "cell_type": "code",
   "execution_count": 45,
   "id": "6d0ef803",
   "metadata": {},
   "outputs": [
    {
     "data": {
      "text/plain": [
       "<AxesSubplot:xlabel='Inflight_entertainmentcube', ylabel='Count'>"
      ]
     },
     "execution_count": 45,
     "metadata": {},
     "output_type": "execute_result"
    },
    {
     "data": {
      "image/png": "[encoded data removed]",
      "text/plain": [
       "<Figure size 432x288 with 1 Axes>"
      ]
     },
     "metadata": {
      "needs_background": "light"
     },
     "output_type": "display_data"
    }
   ],
   "source": [
    "sat['Inflight_entertainmentcube'] = sat['Inflight_entertainment'] ** 3\n",
    "sns.histplot(sat['Inflight_entertainmentcube'])"
   ]
  },
  {
   "cell_type": "code",
   "execution_count": 46,
   "id": "398afb03",
   "metadata": {},
   "outputs": [
    {
     "data": {
      "text/html": [
       "<div>\n",
       "<style scoped>\n",
       "    .dataframe tbody tr th:only-of-type {\n",
       "        vertical-align: middle;\n",
       "    }\n",
       "\n",
       "    .dataframe tbody tr th {\n",
       "        vertical-align: top;\n",
       "    }\n",
       "\n",
       "    .dataframe thead th {\n",
       "        text-align: right;\n",
       "    }\n",
       "</style>\n",
       "<table border=\"1\" class=\"dataframe\">\n",
       "  <thead>\n",
       "    <tr style=\"text-align: right;\">\n",
       "      <th></th>\n",
       "      <th>sum_sq</th>\n",
       "      <th>df</th>\n",
       "      <th>F</th>\n",
       "      <th>PR(&gt;F)</th>\n",
       "    </tr>\n",
       "  </thead>\n",
       "  <tbody>\n",
       "    <tr>\n",
       "      <th>C(Type_of_Travel_Business_travel)</th>\n",
       "      <td>8.880881e+06</td>\n",
       "      <td>1.0</td>\n",
       "      <td>4469.475770</td>\n",
       "      <td>0.000000e+00</td>\n",
       "    </tr>\n",
       "    <tr>\n",
       "      <th>C(Type_of_Travel_Personal_Travel)</th>\n",
       "      <td>3.236877e+05</td>\n",
       "      <td>1.0</td>\n",
       "      <td>162.902139</td>\n",
       "      <td>2.767185e-37</td>\n",
       "    </tr>\n",
       "    <tr>\n",
       "      <th>C(Class_Business)</th>\n",
       "      <td>5.575760e+06</td>\n",
       "      <td>1.0</td>\n",
       "      <td>2806.109665</td>\n",
       "      <td>0.000000e+00</td>\n",
       "    </tr>\n",
       "    <tr>\n",
       "      <th>C(Class_Eco)</th>\n",
       "      <td>2.330477e+05</td>\n",
       "      <td>1.0</td>\n",
       "      <td>117.285809</td>\n",
       "      <td>2.553223e-27</td>\n",
       "    </tr>\n",
       "    <tr>\n",
       "      <th>C(Class_Eco_Plus)</th>\n",
       "      <td>5.036578e+02</td>\n",
       "      <td>1.0</td>\n",
       "      <td>0.253476</td>\n",
       "      <td>6.146392e-01</td>\n",
       "    </tr>\n",
       "    <tr>\n",
       "      <th>C(Gender_Female)</th>\n",
       "      <td>5.306369e+06</td>\n",
       "      <td>1.0</td>\n",
       "      <td>2670.533535</td>\n",
       "      <td>0.000000e+00</td>\n",
       "    </tr>\n",
       "    <tr>\n",
       "      <th>C(Gender_Male)</th>\n",
       "      <td>5.102086e+06</td>\n",
       "      <td>1.0</td>\n",
       "      <td>2567.724066</td>\n",
       "      <td>0.000000e+00</td>\n",
       "    </tr>\n",
       "    <tr>\n",
       "      <th>C(Customer_Type_Loyal_Customer)</th>\n",
       "      <td>1.482940e+07</td>\n",
       "      <td>1.0</td>\n",
       "      <td>7463.183376</td>\n",
       "      <td>0.000000e+00</td>\n",
       "    </tr>\n",
       "    <tr>\n",
       "      <th>C(Customer_Type_disloyal_Customer)</th>\n",
       "      <td>1.799193e+04</td>\n",
       "      <td>1.0</td>\n",
       "      <td>9.054789</td>\n",
       "      <td>2.620579e-03</td>\n",
       "    </tr>\n",
       "    <tr>\n",
       "      <th>C(Age_divided_at_60)</th>\n",
       "      <td>2.007386e+05</td>\n",
       "      <td>1.0</td>\n",
       "      <td>101.025617</td>\n",
       "      <td>9.263797e-24</td>\n",
       "    </tr>\n",
       "    <tr>\n",
       "      <th>Residual</th>\n",
       "      <td>2.580586e+08</td>\n",
       "      <td>129873.0</td>\n",
       "      <td>NaN</td>\n",
       "      <td>NaN</td>\n",
       "    </tr>\n",
       "  </tbody>\n",
       "</table>\n",
       "</div>"
      ],
      "text/plain": [
       "                                          sum_sq        df            F  \\\n",
       "C(Type_of_Travel_Business_travel)   8.880881e+06       1.0  4469.475770   \n",
       "C(Type_of_Travel_Personal_Travel)   3.236877e+05       1.0   162.902139   \n",
       "C(Class_Business)                   5.575760e+06       1.0  2806.109665   \n",
       "C(Class_Eco)                        2.330477e+05       1.0   117.285809   \n",
       "C(Class_Eco_Plus)                   5.036578e+02       1.0     0.253476   \n",
       "C(Gender_Female)                    5.306369e+06       1.0  2670.533535   \n",
       "C(Gender_Male)                      5.102086e+06       1.0  2567.724066   \n",
       "C(Customer_Type_Loyal_Customer)     1.482940e+07       1.0  7463.183376   \n",
       "C(Customer_Type_disloyal_Customer)  1.799193e+04       1.0     9.054789   \n",
       "C(Age_divided_at_60)                2.007386e+05       1.0   101.025617   \n",
       "Residual                            2.580586e+08  129873.0          NaN   \n",
       "\n",
       "                                          PR(>F)  \n",
       "C(Type_of_Travel_Business_travel)   0.000000e+00  \n",
       "C(Type_of_Travel_Personal_Travel)   2.767185e-37  \n",
       "C(Class_Business)                   0.000000e+00  \n",
       "C(Class_Eco)                        2.553223e-27  \n",
       "C(Class_Eco_Plus)                   6.146392e-01  \n",
       "C(Gender_Female)                    0.000000e+00  \n",
       "C(Gender_Male)                      0.000000e+00  \n",
       "C(Customer_Type_Loyal_Customer)     0.000000e+00  \n",
       "C(Customer_Type_disloyal_Customer)  2.620579e-03  \n",
       "C(Age_divided_at_60)                9.263797e-24  \n",
       "Residual                                     NaN  "
      ]
     },
     "execution_count": 46,
     "metadata": {},
     "output_type": "execute_result"
    }
   ],
   "source": [
    "dv = \"Inflight_entertainmentcube\"\n",
    "cols = list(dummy.columns) + ['Age_divided_at_60']\n",
    "string_var = dv + \" ~ C(\" + cols[0] + \")\"\n",
    "for col in cols[1:]:\n",
    "    string_var = string_var + \" + C(\" + col +\")\"\n",
    "string_var\n",
    "\n",
    "model =ols (string_var, data =sat).fit()\n",
    "\n",
    "anova = sm.stats.anova_lm(model, typ=2)\n",
    "anova"
   ]
  },
  {
   "cell_type": "markdown",
   "id": "b0ff3d1c",
   "metadata": {},
   "source": [
    "## Sig dif"
   ]
  },
  {
   "cell_type": "markdown",
   "id": "dd51229b",
   "metadata": {},
   "source": [
    "## Leg room"
   ]
  },
  {
   "cell_type": "code",
   "execution_count": 47,
   "id": "e2c0eb40",
   "metadata": {},
   "outputs": [
    {
     "data": {
      "text/plain": [
       "<AxesSubplot:xlabel='Leg_room_service', ylabel='Count'>"
      ]
     },
     "execution_count": 47,
     "metadata": {},
     "output_type": "execute_result"
    },
    {
     "data": {
      "image/png": "[encoded data removed]",
      "text/plain": [
       "<Figure size 432x288 with 1 Axes>"
      ]
     },
     "metadata": {
      "needs_background": "light"
     },
     "output_type": "display_data"
    }
   ],
   "source": [
    "sns.histplot(sat['Leg_room_service'])"
   ]
  },
  {
   "cell_type": "code",
   "execution_count": 48,
   "id": "be59fb2b",
   "metadata": {},
   "outputs": [
    {
     "data": {
      "text/plain": [
       "<AxesSubplot:xlabel='Leg_roomSQ', ylabel='Count'>"
      ]
     },
     "execution_count": 48,
     "metadata": {},
     "output_type": "execute_result"
    },
    {
     "data": {
      "image/png": "[encoded data removed]",
      "text/plain": [
       "<Figure size 432x288 with 1 Axes>"
      ]
     },
     "metadata": {
      "needs_background": "light"
     },
     "output_type": "display_data"
    }
   ],
   "source": [
    "sat['Leg_roomSQ'] = sat['Leg_room_service'] ** 3\n",
    "sns.histplot(sat['Leg_roomSQ'])"
   ]
  },
  {
   "cell_type": "code",
   "execution_count": 49,
   "id": "25374d6b",
   "metadata": {},
   "outputs": [
    {
     "data": {
      "text/html": [
       "<div>\n",
       "<style scoped>\n",
       "    .dataframe tbody tr th:only-of-type {\n",
       "        vertical-align: middle;\n",
       "    }\n",
       "\n",
       "    .dataframe tbody tr th {\n",
       "        vertical-align: top;\n",
       "    }\n",
       "\n",
       "    .dataframe thead th {\n",
       "        text-align: right;\n",
       "    }\n",
       "</style>\n",
       "<table border=\"1\" class=\"dataframe\">\n",
       "  <thead>\n",
       "    <tr style=\"text-align: right;\">\n",
       "      <th></th>\n",
       "      <th>sum_sq</th>\n",
       "      <th>df</th>\n",
       "      <th>F</th>\n",
       "      <th>PR(&gt;F)</th>\n",
       "    </tr>\n",
       "  </thead>\n",
       "  <tbody>\n",
       "    <tr>\n",
       "      <th>C(Type_of_Travel_Business_travel)</th>\n",
       "      <td>6.308392e+06</td>\n",
       "      <td>1.0</td>\n",
       "      <td>3206.293267</td>\n",
       "      <td>0.000000e+00</td>\n",
       "    </tr>\n",
       "    <tr>\n",
       "      <th>C(Type_of_Travel_Personal_Travel)</th>\n",
       "      <td>9.052160e+05</td>\n",
       "      <td>1.0</td>\n",
       "      <td>460.083620</td>\n",
       "      <td>6.934352e-102</td>\n",
       "    </tr>\n",
       "    <tr>\n",
       "      <th>C(Class_Business)</th>\n",
       "      <td>7.557180e+06</td>\n",
       "      <td>1.0</td>\n",
       "      <td>3841.000326</td>\n",
       "      <td>0.000000e+00</td>\n",
       "    </tr>\n",
       "    <tr>\n",
       "      <th>C(Class_Eco)</th>\n",
       "      <td>4.410374e+04</td>\n",
       "      <td>1.0</td>\n",
       "      <td>22.416096</td>\n",
       "      <td>2.197576e-06</td>\n",
       "    </tr>\n",
       "    <tr>\n",
       "      <th>C(Class_Eco_Plus)</th>\n",
       "      <td>1.068488e+04</td>\n",
       "      <td>1.0</td>\n",
       "      <td>5.430681</td>\n",
       "      <td>1.978748e-02</td>\n",
       "    </tr>\n",
       "    <tr>\n",
       "      <th>C(Gender_Female)</th>\n",
       "      <td>3.658764e+06</td>\n",
       "      <td>1.0</td>\n",
       "      <td>1859.597439</td>\n",
       "      <td>0.000000e+00</td>\n",
       "    </tr>\n",
       "    <tr>\n",
       "      <th>C(Gender_Male)</th>\n",
       "      <td>6.698825e+06</td>\n",
       "      <td>1.0</td>\n",
       "      <td>3404.733886</td>\n",
       "      <td>0.000000e+00</td>\n",
       "    </tr>\n",
       "    <tr>\n",
       "      <th>C(Customer_Type_Loyal_Customer)</th>\n",
       "      <td>8.269500e+06</td>\n",
       "      <td>1.0</td>\n",
       "      <td>4203.043087</td>\n",
       "      <td>0.000000e+00</td>\n",
       "    </tr>\n",
       "    <tr>\n",
       "      <th>C(Customer_Type_disloyal_Customer)</th>\n",
       "      <td>6.864747e+05</td>\n",
       "      <td>1.0</td>\n",
       "      <td>348.906551</td>\n",
       "      <td>9.277381e-78</td>\n",
       "    </tr>\n",
       "    <tr>\n",
       "      <th>C(Age_divided_at_60)</th>\n",
       "      <td>5.259809e+05</td>\n",
       "      <td>1.0</td>\n",
       "      <td>267.334217</td>\n",
       "      <td>4.966221e-60</td>\n",
       "    </tr>\n",
       "    <tr>\n",
       "      <th>Residual</th>\n",
       "      <td>2.555255e+08</td>\n",
       "      <td>129873.0</td>\n",
       "      <td>NaN</td>\n",
       "      <td>NaN</td>\n",
       "    </tr>\n",
       "  </tbody>\n",
       "</table>\n",
       "</div>"
      ],
      "text/plain": [
       "                                          sum_sq        df            F  \\\n",
       "C(Type_of_Travel_Business_travel)   6.308392e+06       1.0  3206.293267   \n",
       "C(Type_of_Travel_Personal_Travel)   9.052160e+05       1.0   460.083620   \n",
       "C(Class_Business)                   7.557180e+06       1.0  3841.000326   \n",
       "C(Class_Eco)                        4.410374e+04       1.0    22.416096   \n",
       "C(Class_Eco_Plus)                   1.068488e+04       1.0     5.430681   \n",
       "C(Gender_Female)                    3.658764e+06       1.0  1859.597439   \n",
       "C(Gender_Male)                      6.698825e+06       1.0  3404.733886   \n",
       "C(Customer_Type_Loyal_Customer)     8.269500e+06       1.0  4203.043087   \n",
       "C(Customer_Type_disloyal_Customer)  6.864747e+05       1.0   348.906551   \n",
       "C(Age_divided_at_60)                5.259809e+05       1.0   267.334217   \n",
       "Residual                            2.555255e+08  129873.0          NaN   \n",
       "\n",
       "                                           PR(>F)  \n",
       "C(Type_of_Travel_Business_travel)    0.000000e+00  \n",
       "C(Type_of_Travel_Personal_Travel)   6.934352e-102  \n",
       "C(Class_Business)                    0.000000e+00  \n",
       "C(Class_Eco)                         2.197576e-06  \n",
       "C(Class_Eco_Plus)                    1.978748e-02  \n",
       "C(Gender_Female)                     0.000000e+00  \n",
       "C(Gender_Male)                       0.000000e+00  \n",
       "C(Customer_Type_Loyal_Customer)      0.000000e+00  \n",
       "C(Customer_Type_disloyal_Customer)   9.277381e-78  \n",
       "C(Age_divided_at_60)                 4.966221e-60  \n",
       "Residual                                      NaN  "
      ]
     },
     "execution_count": 49,
     "metadata": {},
     "output_type": "execute_result"
    }
   ],
   "source": [
    "dv = \"Leg_roomSQ\"\n",
    "cols = list(dummy.columns) + ['Age_divided_at_60']\n",
    "string_var = dv + \" ~ C(\" + cols[0] + \")\"\n",
    "for col in cols[1:]:\n",
    "    string_var = string_var + \" + C(\" + col +\")\"\n",
    "string_var\n",
    "\n",
    "model =ols (string_var, data =sat).fit()\n",
    "\n",
    "anova = sm.stats.anova_lm(model, typ=2)\n",
    "anova"
   ]
  },
  {
   "cell_type": "markdown",
   "id": "6b1f42f3",
   "metadata": {},
   "source": [
    "## Significantly diff"
   ]
  },
  {
   "cell_type": "markdown",
   "id": "ed70fdd5",
   "metadata": {},
   "source": [
    "## Age 30"
   ]
  },
  {
   "cell_type": "code",
   "execution_count": 50,
   "id": "2e6cdc0f",
   "metadata": {},
   "outputs": [
    {
     "data": {
      "text/html": [
       "<div>\n",
       "<style scoped>\n",
       "    .dataframe tbody tr th:only-of-type {\n",
       "        vertical-align: middle;\n",
       "    }\n",
       "\n",
       "    .dataframe tbody tr th {\n",
       "        vertical-align: top;\n",
       "    }\n",
       "\n",
       "    .dataframe thead th {\n",
       "        text-align: right;\n",
       "    }\n",
       "</style>\n",
       "<table border=\"1\" class=\"dataframe\">\n",
       "  <thead>\n",
       "    <tr style=\"text-align: right;\">\n",
       "      <th></th>\n",
       "      <th>sum_sq</th>\n",
       "      <th>df</th>\n",
       "      <th>F</th>\n",
       "      <th>PR(&gt;F)</th>\n",
       "    </tr>\n",
       "  </thead>\n",
       "  <tbody>\n",
       "    <tr>\n",
       "      <th>C(Type_of_Travel_Business_travel)</th>\n",
       "      <td>1.038423e+07</td>\n",
       "      <td>1.0</td>\n",
       "      <td>5268.164331</td>\n",
       "      <td>0.000000e+00</td>\n",
       "    </tr>\n",
       "    <tr>\n",
       "      <th>C(Type_of_Travel_Personal_Travel)</th>\n",
       "      <td>1.410314e+06</td>\n",
       "      <td>1.0</td>\n",
       "      <td>715.485962</td>\n",
       "      <td>3.434182e-157</td>\n",
       "    </tr>\n",
       "    <tr>\n",
       "      <th>C(Class_Business)</th>\n",
       "      <td>8.931098e+06</td>\n",
       "      <td>1.0</td>\n",
       "      <td>4530.958199</td>\n",
       "      <td>0.000000e+00</td>\n",
       "    </tr>\n",
       "    <tr>\n",
       "      <th>C(Class_Eco)</th>\n",
       "      <td>1.545805e+05</td>\n",
       "      <td>1.0</td>\n",
       "      <td>78.422375</td>\n",
       "      <td>8.422011e-19</td>\n",
       "    </tr>\n",
       "    <tr>\n",
       "      <th>C(Class_Eco_Plus)</th>\n",
       "      <td>2.338738e+00</td>\n",
       "      <td>1.0</td>\n",
       "      <td>0.001186</td>\n",
       "      <td>9.725219e-01</td>\n",
       "    </tr>\n",
       "    <tr>\n",
       "      <th>C(Gender_Female)</th>\n",
       "      <td>6.501369e+06</td>\n",
       "      <td>1.0</td>\n",
       "      <td>3298.298882</td>\n",
       "      <td>0.000000e+00</td>\n",
       "    </tr>\n",
       "    <tr>\n",
       "      <th>C(Gender_Male)</th>\n",
       "      <td>1.083021e+07</td>\n",
       "      <td>1.0</td>\n",
       "      <td>5494.423187</td>\n",
       "      <td>0.000000e+00</td>\n",
       "    </tr>\n",
       "    <tr>\n",
       "      <th>C(Customer_Type_Loyal_Customer)</th>\n",
       "      <td>1.004460e+07</td>\n",
       "      <td>1.0</td>\n",
       "      <td>5095.862080</td>\n",
       "      <td>0.000000e+00</td>\n",
       "    </tr>\n",
       "    <tr>\n",
       "      <th>C(Customer_Type_disloyal_Customer)</th>\n",
       "      <td>1.382781e+06</td>\n",
       "      <td>1.0</td>\n",
       "      <td>701.517680</td>\n",
       "      <td>3.604010e-154</td>\n",
       "    </tr>\n",
       "    <tr>\n",
       "      <th>C(Age_30)</th>\n",
       "      <td>5.522810e+04</td>\n",
       "      <td>1.0</td>\n",
       "      <td>28.018529</td>\n",
       "      <td>1.203539e-07</td>\n",
       "    </tr>\n",
       "    <tr>\n",
       "      <th>Residual</th>\n",
       "      <td>2.559963e+08</td>\n",
       "      <td>129873.0</td>\n",
       "      <td>NaN</td>\n",
       "      <td>NaN</td>\n",
       "    </tr>\n",
       "  </tbody>\n",
       "</table>\n",
       "</div>"
      ],
      "text/plain": [
       "                                          sum_sq        df            F  \\\n",
       "C(Type_of_Travel_Business_travel)   1.038423e+07       1.0  5268.164331   \n",
       "C(Type_of_Travel_Personal_Travel)   1.410314e+06       1.0   715.485962   \n",
       "C(Class_Business)                   8.931098e+06       1.0  4530.958199   \n",
       "C(Class_Eco)                        1.545805e+05       1.0    78.422375   \n",
       "C(Class_Eco_Plus)                   2.338738e+00       1.0     0.001186   \n",
       "C(Gender_Female)                    6.501369e+06       1.0  3298.298882   \n",
       "C(Gender_Male)                      1.083021e+07       1.0  5494.423187   \n",
       "C(Customer_Type_Loyal_Customer)     1.004460e+07       1.0  5095.862080   \n",
       "C(Customer_Type_disloyal_Customer)  1.382781e+06       1.0   701.517680   \n",
       "C(Age_30)                           5.522810e+04       1.0    28.018529   \n",
       "Residual                            2.559963e+08  129873.0          NaN   \n",
       "\n",
       "                                           PR(>F)  \n",
       "C(Type_of_Travel_Business_travel)    0.000000e+00  \n",
       "C(Type_of_Travel_Personal_Travel)   3.434182e-157  \n",
       "C(Class_Business)                    0.000000e+00  \n",
       "C(Class_Eco)                         8.422011e-19  \n",
       "C(Class_Eco_Plus)                    9.725219e-01  \n",
       "C(Gender_Female)                     0.000000e+00  \n",
       "C(Gender_Male)                       0.000000e+00  \n",
       "C(Customer_Type_Loyal_Customer)      0.000000e+00  \n",
       "C(Customer_Type_disloyal_Customer)  3.604010e-154  \n",
       "C(Age_30)                            1.203539e-07  \n",
       "Residual                                      NaN  "
      ]
     },
     "execution_count": 50,
     "metadata": {},
     "output_type": "execute_result"
    }
   ],
   "source": [
    "dv = \"Leg_roomSQ\"\n",
    "cols = list(dummy.columns) + ['Age_30']\n",
    "string_var = dv + \" ~ C(\" + cols[0] + \")\"\n",
    "for col in cols[1:]:\n",
    "    string_var = string_var + \" + C(\" + col +\")\"\n",
    "string_var\n",
    "\n",
    "model =ols (string_var, data =sat).fit()\n",
    "\n",
    "anova = sm.stats.anova_lm(model, typ=2)\n",
    "anova"
   ]
  },
  {
   "cell_type": "markdown",
   "id": "16b8efc5",
   "metadata": {},
   "source": [
    "## Age has significance"
   ]
  },
  {
   "cell_type": "markdown",
   "id": "7a828f75",
   "metadata": {},
   "source": [
    "## On-board Service"
   ]
  },
  {
   "cell_type": "code",
   "execution_count": 51,
   "id": "af395481",
   "metadata": {},
   "outputs": [
    {
     "data": {
      "text/plain": [
       "<AxesSubplot:xlabel='On-board_service', ylabel='Count'>"
      ]
     },
     "execution_count": 51,
     "metadata": {},
     "output_type": "execute_result"
    },
    {
     "data": {
      "image/png": "[encoded data removed]",
      "text/plain": [
       "<Figure size 432x288 with 1 Axes>"
      ]
     },
     "metadata": {
      "needs_background": "light"
     },
     "output_type": "display_data"
    }
   ],
   "source": [
    "sns.histplot(sat['On-board_service'])"
   ]
  },
  {
   "cell_type": "code",
   "execution_count": 52,
   "id": "7f22749f",
   "metadata": {},
   "outputs": [
    {
     "data": {
      "text/plain": [
       "<AxesSubplot:xlabel='Onboard_servicecube', ylabel='Count'>"
      ]
     },
     "execution_count": 52,
     "metadata": {},
     "output_type": "execute_result"
    },
    {
     "data": {
      "image/png": "[encoded data removed]",
      "text/plain": [
       "<Figure size 432x288 with 1 Axes>"
      ]
     },
     "metadata": {
      "needs_background": "light"
     },
     "output_type": "display_data"
    }
   ],
   "source": [
    "sat['Onboard_servicecube'] = sat['On-board_service'] ** 3\n",
    "sns.histplot(sat['Onboard_servicecube'])"
   ]
  },
  {
   "cell_type": "code",
   "execution_count": 53,
   "id": "8873b0fb",
   "metadata": {},
   "outputs": [
    {
     "data": {
      "text/html": [
       "<div>\n",
       "<style scoped>\n",
       "    .dataframe tbody tr th:only-of-type {\n",
       "        vertical-align: middle;\n",
       "    }\n",
       "\n",
       "    .dataframe tbody tr th {\n",
       "        vertical-align: top;\n",
       "    }\n",
       "\n",
       "    .dataframe thead th {\n",
       "        text-align: right;\n",
       "    }\n",
       "</style>\n",
       "<table border=\"1\" class=\"dataframe\">\n",
       "  <thead>\n",
       "    <tr style=\"text-align: right;\">\n",
       "      <th></th>\n",
       "      <th>sum_sq</th>\n",
       "      <th>df</th>\n",
       "      <th>F</th>\n",
       "      <th>PR(&gt;F)</th>\n",
       "    </tr>\n",
       "  </thead>\n",
       "  <tbody>\n",
       "    <tr>\n",
       "      <th>C(Type_of_Travel_Business_travel)</th>\n",
       "      <td>1.330299e+06</td>\n",
       "      <td>1.0</td>\n",
       "      <td>717.047985</td>\n",
       "      <td>1.577702e-157</td>\n",
       "    </tr>\n",
       "    <tr>\n",
       "      <th>C(Type_of_Travel_Personal_Travel)</th>\n",
       "      <td>6.856844e+06</td>\n",
       "      <td>1.0</td>\n",
       "      <td>3695.926214</td>\n",
       "      <td>0.000000e+00</td>\n",
       "    </tr>\n",
       "    <tr>\n",
       "      <th>C(Class_Business)</th>\n",
       "      <td>1.520392e+07</td>\n",
       "      <td>1.0</td>\n",
       "      <td>8195.107821</td>\n",
       "      <td>0.000000e+00</td>\n",
       "    </tr>\n",
       "    <tr>\n",
       "      <th>C(Class_Eco)</th>\n",
       "      <td>3.589748e+04</td>\n",
       "      <td>1.0</td>\n",
       "      <td>19.349197</td>\n",
       "      <td>1.089514e-05</td>\n",
       "    </tr>\n",
       "    <tr>\n",
       "      <th>C(Class_Eco_Plus)</th>\n",
       "      <td>1.540075e+05</td>\n",
       "      <td>1.0</td>\n",
       "      <td>83.011986</td>\n",
       "      <td>8.267222e-20</td>\n",
       "    </tr>\n",
       "    <tr>\n",
       "      <th>C(Gender_Female)</th>\n",
       "      <td>6.690937e+06</td>\n",
       "      <td>1.0</td>\n",
       "      <td>3606.500222</td>\n",
       "      <td>0.000000e+00</td>\n",
       "    </tr>\n",
       "    <tr>\n",
       "      <th>C(Gender_Male)</th>\n",
       "      <td>6.433602e+06</td>\n",
       "      <td>1.0</td>\n",
       "      <td>3467.793595</td>\n",
       "      <td>0.000000e+00</td>\n",
       "    </tr>\n",
       "    <tr>\n",
       "      <th>C(Customer_Type_Loyal_Customer)</th>\n",
       "      <td>6.512792e+06</td>\n",
       "      <td>1.0</td>\n",
       "      <td>3510.477622</td>\n",
       "      <td>0.000000e+00</td>\n",
       "    </tr>\n",
       "    <tr>\n",
       "      <th>C(Customer_Type_disloyal_Customer)</th>\n",
       "      <td>2.192200e+06</td>\n",
       "      <td>1.0</td>\n",
       "      <td>1181.623487</td>\n",
       "      <td>8.734478e-258</td>\n",
       "    </tr>\n",
       "    <tr>\n",
       "      <th>C(Age_divided_at_60)</th>\n",
       "      <td>1.753181e+05</td>\n",
       "      <td>1.0</td>\n",
       "      <td>94.498691</td>\n",
       "      <td>2.495951e-22</td>\n",
       "    </tr>\n",
       "    <tr>\n",
       "      <th>Residual</th>\n",
       "      <td>2.409461e+08</td>\n",
       "      <td>129873.0</td>\n",
       "      <td>NaN</td>\n",
       "      <td>NaN</td>\n",
       "    </tr>\n",
       "  </tbody>\n",
       "</table>\n",
       "</div>"
      ],
      "text/plain": [
       "                                          sum_sq        df            F  \\\n",
       "C(Type_of_Travel_Business_travel)   1.330299e+06       1.0   717.047985   \n",
       "C(Type_of_Travel_Personal_Travel)   6.856844e+06       1.0  3695.926214   \n",
       "C(Class_Business)                   1.520392e+07       1.0  8195.107821   \n",
       "C(Class_Eco)                        3.589748e+04       1.0    19.349197   \n",
       "C(Class_Eco_Plus)                   1.540075e+05       1.0    83.011986   \n",
       "C(Gender_Female)                    6.690937e+06       1.0  3606.500222   \n",
       "C(Gender_Male)                      6.433602e+06       1.0  3467.793595   \n",
       "C(Customer_Type_Loyal_Customer)     6.512792e+06       1.0  3510.477622   \n",
       "C(Customer_Type_disloyal_Customer)  2.192200e+06       1.0  1181.623487   \n",
       "C(Age_divided_at_60)                1.753181e+05       1.0    94.498691   \n",
       "Residual                            2.409461e+08  129873.0          NaN   \n",
       "\n",
       "                                           PR(>F)  \n",
       "C(Type_of_Travel_Business_travel)   1.577702e-157  \n",
       "C(Type_of_Travel_Personal_Travel)    0.000000e+00  \n",
       "C(Class_Business)                    0.000000e+00  \n",
       "C(Class_Eco)                         1.089514e-05  \n",
       "C(Class_Eco_Plus)                    8.267222e-20  \n",
       "C(Gender_Female)                     0.000000e+00  \n",
       "C(Gender_Male)                       0.000000e+00  \n",
       "C(Customer_Type_Loyal_Customer)      0.000000e+00  \n",
       "C(Customer_Type_disloyal_Customer)  8.734478e-258  \n",
       "C(Age_divided_at_60)                 2.495951e-22  \n",
       "Residual                                      NaN  "
      ]
     },
     "execution_count": 53,
     "metadata": {},
     "output_type": "execute_result"
    }
   ],
   "source": [
    "dv = \"Onboard_servicecube\"\n",
    "cols = list(dummy.columns) + ['Age_divided_at_60']\n",
    "string_var = dv + \" ~ C(\" + cols[0] + \")\"\n",
    "for col in cols[1:]:\n",
    "    string_var = string_var + \" + C(\" + col +\")\"\n",
    "string_var\n",
    "\n",
    "model =ols (string_var, data =sat).fit()\n",
    "\n",
    "anova = sm.stats.anova_lm(model, typ=2)\n",
    "anova"
   ]
  },
  {
   "cell_type": "markdown",
   "id": "3dbdd152",
   "metadata": {},
   "source": [
    "### Business travel, eco and eco plus class and age 60 were sig dif"
   ]
  },
  {
   "cell_type": "markdown",
   "id": "33894f73",
   "metadata": {},
   "source": [
    "## Online boarding"
   ]
  },
  {
   "cell_type": "code",
   "execution_count": 54,
   "id": "89644b70",
   "metadata": {},
   "outputs": [
    {
     "data": {
      "text/plain": [
       "<AxesSubplot:xlabel='Online_boarding', ylabel='Count'>"
      ]
     },
     "execution_count": 54,
     "metadata": {},
     "output_type": "execute_result"
    },
    {
     "data": {
      "image/png": "[encoded data removed]",
      "text/plain": [
       "<Figure size 432x288 with 1 Axes>"
      ]
     },
     "metadata": {
      "needs_background": "light"
     },
     "output_type": "display_data"
    }
   ],
   "source": [
    "sns.histplot(sat['Online_boarding'])"
   ]
  },
  {
   "cell_type": "code",
   "execution_count": 55,
   "id": "2744a91d",
   "metadata": {},
   "outputs": [
    {
     "data": {
      "text/plain": [
       "<AxesSubplot:xlabel='Online_boardingcube', ylabel='Count'>"
      ]
     },
     "execution_count": 55,
     "metadata": {},
     "output_type": "execute_result"
    },
    {
     "data": {
      "image/png": "[encoded data removed]",
      "text/plain": [
       "<Figure size 432x288 with 1 Axes>"
      ]
     },
     "metadata": {
      "needs_background": "light"
     },
     "output_type": "display_data"
    }
   ],
   "source": [
    "sat['Online_boardingcube'] = sat['Online_boarding'] **3\n",
    "sns.histplot(sat['Online_boardingcube'])"
   ]
  },
  {
   "cell_type": "code",
   "execution_count": 56,
   "id": "0bc25a38",
   "metadata": {},
   "outputs": [
    {
     "data": {
      "text/html": [
       "<div>\n",
       "<style scoped>\n",
       "    .dataframe tbody tr th:only-of-type {\n",
       "        vertical-align: middle;\n",
       "    }\n",
       "\n",
       "    .dataframe tbody tr th {\n",
       "        vertical-align: top;\n",
       "    }\n",
       "\n",
       "    .dataframe thead th {\n",
       "        text-align: right;\n",
       "    }\n",
       "</style>\n",
       "<table border=\"1\" class=\"dataframe\">\n",
       "  <thead>\n",
       "    <tr style=\"text-align: right;\">\n",
       "      <th></th>\n",
       "      <th>sum_sq</th>\n",
       "      <th>df</th>\n",
       "      <th>F</th>\n",
       "      <th>PR(&gt;F)</th>\n",
       "    </tr>\n",
       "  </thead>\n",
       "  <tbody>\n",
       "    <tr>\n",
       "      <th>C(Type_of_Travel_Business_travel)</th>\n",
       "      <td>1.235401e+07</td>\n",
       "      <td>1.0</td>\n",
       "      <td>7681.689778</td>\n",
       "      <td>0.000000e+00</td>\n",
       "    </tr>\n",
       "    <tr>\n",
       "      <th>C(Type_of_Travel_Personal_Travel)</th>\n",
       "      <td>2.448968e+04</td>\n",
       "      <td>1.0</td>\n",
       "      <td>15.227619</td>\n",
       "      <td>9.534744e-05</td>\n",
       "    </tr>\n",
       "    <tr>\n",
       "      <th>C(Class_Business)</th>\n",
       "      <td>1.189548e+07</td>\n",
       "      <td>1.0</td>\n",
       "      <td>7396.575900</td>\n",
       "      <td>0.000000e+00</td>\n",
       "    </tr>\n",
       "    <tr>\n",
       "      <th>C(Class_Eco)</th>\n",
       "      <td>5.907285e+04</td>\n",
       "      <td>1.0</td>\n",
       "      <td>36.731337</td>\n",
       "      <td>1.359539e-09</td>\n",
       "    </tr>\n",
       "    <tr>\n",
       "      <th>C(Class_Eco_Plus)</th>\n",
       "      <td>1.886510e+05</td>\n",
       "      <td>1.0</td>\n",
       "      <td>117.302652</td>\n",
       "      <td>2.531652e-27</td>\n",
       "    </tr>\n",
       "    <tr>\n",
       "      <th>C(Gender_Female)</th>\n",
       "      <td>7.452604e+06</td>\n",
       "      <td>1.0</td>\n",
       "      <td>4634.008790</td>\n",
       "      <td>0.000000e+00</td>\n",
       "    </tr>\n",
       "    <tr>\n",
       "      <th>C(Gender_Male)</th>\n",
       "      <td>2.251829e+06</td>\n",
       "      <td>1.0</td>\n",
       "      <td>1400.180909</td>\n",
       "      <td>8.179742e-305</td>\n",
       "    </tr>\n",
       "    <tr>\n",
       "      <th>C(Customer_Type_Loyal_Customer)</th>\n",
       "      <td>2.561777e+07</td>\n",
       "      <td>1.0</td>\n",
       "      <td>15929.059265</td>\n",
       "      <td>0.000000e+00</td>\n",
       "    </tr>\n",
       "    <tr>\n",
       "      <th>C(Customer_Type_disloyal_Customer)</th>\n",
       "      <td>9.989821e+05</td>\n",
       "      <td>1.0</td>\n",
       "      <td>621.164364</td>\n",
       "      <td>8.771805e-137</td>\n",
       "    </tr>\n",
       "    <tr>\n",
       "      <th>C(Age_divided_at_60)</th>\n",
       "      <td>7.443383e+04</td>\n",
       "      <td>1.0</td>\n",
       "      <td>46.282752</td>\n",
       "      <td>1.028021e-11</td>\n",
       "    </tr>\n",
       "    <tr>\n",
       "      <th>Residual</th>\n",
       "      <td>2.088671e+08</td>\n",
       "      <td>129873.0</td>\n",
       "      <td>NaN</td>\n",
       "      <td>NaN</td>\n",
       "    </tr>\n",
       "  </tbody>\n",
       "</table>\n",
       "</div>"
      ],
      "text/plain": [
       "                                          sum_sq        df             F  \\\n",
       "C(Type_of_Travel_Business_travel)   1.235401e+07       1.0   7681.689778   \n",
       "C(Type_of_Travel_Personal_Travel)   2.448968e+04       1.0     15.227619   \n",
       "C(Class_Business)                   1.189548e+07       1.0   7396.575900   \n",
       "C(Class_Eco)                        5.907285e+04       1.0     36.731337   \n",
       "C(Class_Eco_Plus)                   1.886510e+05       1.0    117.302652   \n",
       "C(Gender_Female)                    7.452604e+06       1.0   4634.008790   \n",
       "C(Gender_Male)                      2.251829e+06       1.0   1400.180909   \n",
       "C(Customer_Type_Loyal_Customer)     2.561777e+07       1.0  15929.059265   \n",
       "C(Customer_Type_disloyal_Customer)  9.989821e+05       1.0    621.164364   \n",
       "C(Age_divided_at_60)                7.443383e+04       1.0     46.282752   \n",
       "Residual                            2.088671e+08  129873.0           NaN   \n",
       "\n",
       "                                           PR(>F)  \n",
       "C(Type_of_Travel_Business_travel)    0.000000e+00  \n",
       "C(Type_of_Travel_Personal_Travel)    9.534744e-05  \n",
       "C(Class_Business)                    0.000000e+00  \n",
       "C(Class_Eco)                         1.359539e-09  \n",
       "C(Class_Eco_Plus)                    2.531652e-27  \n",
       "C(Gender_Female)                     0.000000e+00  \n",
       "C(Gender_Male)                      8.179742e-305  \n",
       "C(Customer_Type_Loyal_Customer)      0.000000e+00  \n",
       "C(Customer_Type_disloyal_Customer)  8.771805e-137  \n",
       "C(Age_divided_at_60)                 1.028021e-11  \n",
       "Residual                                      NaN  "
      ]
     },
     "execution_count": 56,
     "metadata": {},
     "output_type": "execute_result"
    }
   ],
   "source": [
    "dv = \"Online_boardingcube\"\n",
    "cols = list(dummy.columns) + ['Age_divided_at_60']\n",
    "string_var = dv + \" ~ C(\" + cols[0] + \")\"\n",
    "for col in cols[1:]:\n",
    "    string_var = string_var + \" + C(\" + col +\")\"\n",
    "string_var\n",
    "\n",
    "model =ols (string_var, data =sat).fit()\n",
    "\n",
    "anova = sm.stats.anova_lm(model, typ=2)\n",
    "anova"
   ]
  },
  {
   "cell_type": "markdown",
   "id": "b5861a0a",
   "metadata": {},
   "source": [
    "## eco class and age 60 sig dif"
   ]
  },
  {
   "cell_type": "markdown",
   "id": "0d8498b8",
   "metadata": {},
   "source": [
    "## Age 30"
   ]
  },
  {
   "cell_type": "code",
   "execution_count": 57,
   "id": "d2df7f1d",
   "metadata": {},
   "outputs": [
    {
     "data": {
      "text/html": [
       "<div>\n",
       "<style scoped>\n",
       "    .dataframe tbody tr th:only-of-type {\n",
       "        vertical-align: middle;\n",
       "    }\n",
       "\n",
       "    .dataframe tbody tr th {\n",
       "        vertical-align: top;\n",
       "    }\n",
       "\n",
       "    .dataframe thead th {\n",
       "        text-align: right;\n",
       "    }\n",
       "</style>\n",
       "<table border=\"1\" class=\"dataframe\">\n",
       "  <thead>\n",
       "    <tr style=\"text-align: right;\">\n",
       "      <th></th>\n",
       "      <th>sum_sq</th>\n",
       "      <th>df</th>\n",
       "      <th>F</th>\n",
       "      <th>PR(&gt;F)</th>\n",
       "    </tr>\n",
       "  </thead>\n",
       "  <tbody>\n",
       "    <tr>\n",
       "      <th>C(Type_of_Travel_Business_travel)</th>\n",
       "      <td>1.466501e+07</td>\n",
       "      <td>1.0</td>\n",
       "      <td>9167.861310</td>\n",
       "      <td>0.000000e+00</td>\n",
       "    </tr>\n",
       "    <tr>\n",
       "      <th>C(Type_of_Travel_Personal_Travel)</th>\n",
       "      <td>1.247276e+03</td>\n",
       "      <td>1.0</td>\n",
       "      <td>0.779737</td>\n",
       "      <td>3.772232e-01</td>\n",
       "    </tr>\n",
       "    <tr>\n",
       "      <th>C(Class_Business)</th>\n",
       "      <td>1.219264e+07</td>\n",
       "      <td>1.0</td>\n",
       "      <td>7622.253552</td>\n",
       "      <td>0.000000e+00</td>\n",
       "    </tr>\n",
       "    <tr>\n",
       "      <th>C(Class_Eco)</th>\n",
       "      <td>3.799000e+04</td>\n",
       "      <td>1.0</td>\n",
       "      <td>23.749522</td>\n",
       "      <td>1.098517e-06</td>\n",
       "    </tr>\n",
       "    <tr>\n",
       "      <th>C(Class_Eco_Plus)</th>\n",
       "      <td>1.527201e+05</td>\n",
       "      <td>1.0</td>\n",
       "      <td>95.473249</td>\n",
       "      <td>1.526112e-22</td>\n",
       "    </tr>\n",
       "    <tr>\n",
       "      <th>C(Gender_Female)</th>\n",
       "      <td>9.607316e+06</td>\n",
       "      <td>1.0</td>\n",
       "      <td>6006.031975</td>\n",
       "      <td>0.000000e+00</td>\n",
       "    </tr>\n",
       "    <tr>\n",
       "      <th>C(Gender_Male)</th>\n",
       "      <td>2.964440e+06</td>\n",
       "      <td>1.0</td>\n",
       "      <td>1853.225152</td>\n",
       "      <td>0.000000e+00</td>\n",
       "    </tr>\n",
       "    <tr>\n",
       "      <th>C(Customer_Type_Loyal_Customer)</th>\n",
       "      <td>2.384186e+07</td>\n",
       "      <td>1.0</td>\n",
       "      <td>14904.782577</td>\n",
       "      <td>0.000000e+00</td>\n",
       "    </tr>\n",
       "    <tr>\n",
       "      <th>C(Customer_Type_disloyal_Customer)</th>\n",
       "      <td>4.510140e+05</td>\n",
       "      <td>1.0</td>\n",
       "      <td>281.952260</td>\n",
       "      <td>3.288542e-63</td>\n",
       "    </tr>\n",
       "    <tr>\n",
       "      <th>C(Age_30)</th>\n",
       "      <td>1.195249e+06</td>\n",
       "      <td>1.0</td>\n",
       "      <td>747.212291</td>\n",
       "      <td>4.739946e-164</td>\n",
       "    </tr>\n",
       "    <tr>\n",
       "      <th>Residual</th>\n",
       "      <td>2.077463e+08</td>\n",
       "      <td>129873.0</td>\n",
       "      <td>NaN</td>\n",
       "      <td>NaN</td>\n",
       "    </tr>\n",
       "  </tbody>\n",
       "</table>\n",
       "</div>"
      ],
      "text/plain": [
       "                                          sum_sq        df             F  \\\n",
       "C(Type_of_Travel_Business_travel)   1.466501e+07       1.0   9167.861310   \n",
       "C(Type_of_Travel_Personal_Travel)   1.247276e+03       1.0      0.779737   \n",
       "C(Class_Business)                   1.219264e+07       1.0   7622.253552   \n",
       "C(Class_Eco)                        3.799000e+04       1.0     23.749522   \n",
       "C(Class_Eco_Plus)                   1.527201e+05       1.0     95.473249   \n",
       "C(Gender_Female)                    9.607316e+06       1.0   6006.031975   \n",
       "C(Gender_Male)                      2.964440e+06       1.0   1853.225152   \n",
       "C(Customer_Type_Loyal_Customer)     2.384186e+07       1.0  14904.782577   \n",
       "C(Customer_Type_disloyal_Customer)  4.510140e+05       1.0    281.952260   \n",
       "C(Age_30)                           1.195249e+06       1.0    747.212291   \n",
       "Residual                            2.077463e+08  129873.0           NaN   \n",
       "\n",
       "                                           PR(>F)  \n",
       "C(Type_of_Travel_Business_travel)    0.000000e+00  \n",
       "C(Type_of_Travel_Personal_Travel)    3.772232e-01  \n",
       "C(Class_Business)                    0.000000e+00  \n",
       "C(Class_Eco)                         1.098517e-06  \n",
       "C(Class_Eco_Plus)                    1.526112e-22  \n",
       "C(Gender_Female)                     0.000000e+00  \n",
       "C(Gender_Male)                       0.000000e+00  \n",
       "C(Customer_Type_Loyal_Customer)      0.000000e+00  \n",
       "C(Customer_Type_disloyal_Customer)   3.288542e-63  \n",
       "C(Age_30)                           4.739946e-164  \n",
       "Residual                                      NaN  "
      ]
     },
     "execution_count": 57,
     "metadata": {},
     "output_type": "execute_result"
    }
   ],
   "source": [
    "dv = \"Online_boardingcube\"\n",
    "cols = list(dummy.columns) + ['Age_30']\n",
    "string_var = dv + \" ~ C(\" + cols[0] + \")\"\n",
    "for col in cols[1:]:\n",
    "    string_var = string_var + \" + C(\" + col +\")\"\n",
    "string_var\n",
    "\n",
    "model =ols (string_var, data =sat).fit()\n",
    "\n",
    "anova = sm.stats.anova_lm(model, typ=2)\n",
    "anova"
   ]
  },
  {
   "cell_type": "markdown",
   "id": "a25e6106",
   "metadata": {},
   "source": [
    "## Age is the main effect"
   ]
  },
  {
   "cell_type": "markdown",
   "id": "29a3a7bd",
   "metadata": {},
   "source": [
    "## Seat Comfort\n"
   ]
  },
  {
   "cell_type": "code",
   "execution_count": 58,
   "id": "f06a3ff1",
   "metadata": {},
   "outputs": [
    {
     "data": {
      "text/plain": [
       "<AxesSubplot:xlabel='Seat_comfort', ylabel='Count'>"
      ]
     },
     "execution_count": 58,
     "metadata": {},
     "output_type": "execute_result"
    },
    {
     "data": {
      "image/png": "[encoded data removed]",
      "text/plain": [
       "<Figure size 432x288 with 1 Axes>"
      ]
     },
     "metadata": {
      "needs_background": "light"
     },
     "output_type": "display_data"
    }
   ],
   "source": [
    "sns.histplot(sat['Seat_comfort'])"
   ]
  },
  {
   "cell_type": "code",
   "execution_count": 59,
   "id": "f9b14585",
   "metadata": {},
   "outputs": [
    {
     "data": {
      "text/plain": [
       "<AxesSubplot:xlabel='Seat_comfortcube', ylabel='Count'>"
      ]
     },
     "execution_count": 59,
     "metadata": {},
     "output_type": "execute_result"
    },
    {
     "data": {
      "image/png": "[encoded data removed]",
      "text/plain": [
       "<Figure size 432x288 with 1 Axes>"
      ]
     },
     "metadata": {
      "needs_background": "light"
     },
     "output_type": "display_data"
    }
   ],
   "source": [
    "sat['Seat_comfortcube'] = sat['Seat_comfort'] ** 3\n",
    "sns.histplot(sat['Seat_comfortcube'])"
   ]
  },
  {
   "cell_type": "code",
   "execution_count": 60,
   "id": "8cdf7787",
   "metadata": {},
   "outputs": [
    {
     "data": {
      "text/html": [
       "<div>\n",
       "<style scoped>\n",
       "    .dataframe tbody tr th:only-of-type {\n",
       "        vertical-align: middle;\n",
       "    }\n",
       "\n",
       "    .dataframe tbody tr th {\n",
       "        vertical-align: top;\n",
       "    }\n",
       "\n",
       "    .dataframe thead th {\n",
       "        text-align: right;\n",
       "    }\n",
       "</style>\n",
       "<table border=\"1\" class=\"dataframe\">\n",
       "  <thead>\n",
       "    <tr style=\"text-align: right;\">\n",
       "      <th></th>\n",
       "      <th>sum_sq</th>\n",
       "      <th>df</th>\n",
       "      <th>F</th>\n",
       "      <th>PR(&gt;F)</th>\n",
       "    </tr>\n",
       "  </thead>\n",
       "  <tbody>\n",
       "    <tr>\n",
       "      <th>C(Type_of_Travel_Business_travel)</th>\n",
       "      <td>7.182323e+06</td>\n",
       "      <td>1.0</td>\n",
       "      <td>3710.202595</td>\n",
       "      <td>0.000000e+00</td>\n",
       "    </tr>\n",
       "    <tr>\n",
       "      <th>C(Type_of_Travel_Personal_Travel)</th>\n",
       "      <td>1.572930e+06</td>\n",
       "      <td>1.0</td>\n",
       "      <td>812.534968</td>\n",
       "      <td>3.612093e-178</td>\n",
       "    </tr>\n",
       "    <tr>\n",
       "      <th>C(Class_Business)</th>\n",
       "      <td>9.902022e+06</td>\n",
       "      <td>1.0</td>\n",
       "      <td>5115.128498</td>\n",
       "      <td>0.000000e+00</td>\n",
       "    </tr>\n",
       "    <tr>\n",
       "      <th>C(Class_Eco)</th>\n",
       "      <td>6.667944e+04</td>\n",
       "      <td>1.0</td>\n",
       "      <td>34.444875</td>\n",
       "      <td>4.395559e-09</td>\n",
       "    </tr>\n",
       "    <tr>\n",
       "      <th>C(Class_Eco_Plus)</th>\n",
       "      <td>1.857029e+04</td>\n",
       "      <td>1.0</td>\n",
       "      <td>9.592930</td>\n",
       "      <td>1.953697e-03</td>\n",
       "    </tr>\n",
       "    <tr>\n",
       "      <th>C(Gender_Female)</th>\n",
       "      <td>8.792717e+06</td>\n",
       "      <td>1.0</td>\n",
       "      <td>4542.090145</td>\n",
       "      <td>0.000000e+00</td>\n",
       "    </tr>\n",
       "    <tr>\n",
       "      <th>C(Gender_Male)</th>\n",
       "      <td>4.761094e+06</td>\n",
       "      <td>1.0</td>\n",
       "      <td>2459.458046</td>\n",
       "      <td>0.000000e+00</td>\n",
       "    </tr>\n",
       "    <tr>\n",
       "      <th>C(Customer_Type_Loyal_Customer)</th>\n",
       "      <td>1.933220e+07</td>\n",
       "      <td>1.0</td>\n",
       "      <td>9986.515747</td>\n",
       "      <td>0.000000e+00</td>\n",
       "    </tr>\n",
       "    <tr>\n",
       "      <th>C(Customer_Type_disloyal_Customer)</th>\n",
       "      <td>1.185223e+04</td>\n",
       "      <td>1.0</td>\n",
       "      <td>6.122554</td>\n",
       "      <td>1.334805e-02</td>\n",
       "    </tr>\n",
       "    <tr>\n",
       "      <th>C(Age_divided_at_60)</th>\n",
       "      <td>3.529914e+03</td>\n",
       "      <td>1.0</td>\n",
       "      <td>1.823462</td>\n",
       "      <td>1.769041e-01</td>\n",
       "    </tr>\n",
       "    <tr>\n",
       "      <th>Residual</th>\n",
       "      <td>2.514121e+08</td>\n",
       "      <td>129873.0</td>\n",
       "      <td>NaN</td>\n",
       "      <td>NaN</td>\n",
       "    </tr>\n",
       "  </tbody>\n",
       "</table>\n",
       "</div>"
      ],
      "text/plain": [
       "                                          sum_sq        df            F  \\\n",
       "C(Type_of_Travel_Business_travel)   7.182323e+06       1.0  3710.202595   \n",
       "C(Type_of_Travel_Personal_Travel)   1.572930e+06       1.0   812.534968   \n",
       "C(Class_Business)                   9.902022e+06       1.0  5115.128498   \n",
       "C(Class_Eco)                        6.667944e+04       1.0    34.444875   \n",
       "C(Class_Eco_Plus)                   1.857029e+04       1.0     9.592930   \n",
       "C(Gender_Female)                    8.792717e+06       1.0  4542.090145   \n",
       "C(Gender_Male)                      4.761094e+06       1.0  2459.458046   \n",
       "C(Customer_Type_Loyal_Customer)     1.933220e+07       1.0  9986.515747   \n",
       "C(Customer_Type_disloyal_Customer)  1.185223e+04       1.0     6.122554   \n",
       "C(Age_divided_at_60)                3.529914e+03       1.0     1.823462   \n",
       "Residual                            2.514121e+08  129873.0          NaN   \n",
       "\n",
       "                                           PR(>F)  \n",
       "C(Type_of_Travel_Business_travel)    0.000000e+00  \n",
       "C(Type_of_Travel_Personal_Travel)   3.612093e-178  \n",
       "C(Class_Business)                    0.000000e+00  \n",
       "C(Class_Eco)                         4.395559e-09  \n",
       "C(Class_Eco_Plus)                    1.953697e-03  \n",
       "C(Gender_Female)                     0.000000e+00  \n",
       "C(Gender_Male)                       0.000000e+00  \n",
       "C(Customer_Type_Loyal_Customer)      0.000000e+00  \n",
       "C(Customer_Type_disloyal_Customer)   1.334805e-02  \n",
       "C(Age_divided_at_60)                 1.769041e-01  \n",
       "Residual                                      NaN  "
      ]
     },
     "execution_count": 60,
     "metadata": {},
     "output_type": "execute_result"
    }
   ],
   "source": [
    "dv = \"Seat_comfortcube\"\n",
    "cols = list(dummy.columns) + ['Age_divided_at_60']\n",
    "string_var = dv + \" ~ C(\" + cols[0] + \")\"\n",
    "for col in cols[1:]:\n",
    "    string_var = string_var + \" + C(\" + col +\")\"\n",
    "string_var\n",
    "\n",
    "model =ols (string_var, data =sat).fit()\n",
    "\n",
    "anova = sm.stats.anova_lm(model, typ=2)\n",
    "anova"
   ]
  },
  {
   "cell_type": "markdown",
   "id": "b7116945",
   "metadata": {},
   "source": [
    "## Class has a big effect"
   ]
  },
  {
   "cell_type": "markdown",
   "id": "587acc64",
   "metadata": {},
   "source": [
    "## Age 30"
   ]
  },
  {
   "cell_type": "code",
   "execution_count": 61,
   "id": "459c8f94",
   "metadata": {},
   "outputs": [
    {
     "data": {
      "text/html": [
       "<div>\n",
       "<style scoped>\n",
       "    .dataframe tbody tr th:only-of-type {\n",
       "        vertical-align: middle;\n",
       "    }\n",
       "\n",
       "    .dataframe tbody tr th {\n",
       "        vertical-align: top;\n",
       "    }\n",
       "\n",
       "    .dataframe thead th {\n",
       "        text-align: right;\n",
       "    }\n",
       "</style>\n",
       "<table border=\"1\" class=\"dataframe\">\n",
       "  <thead>\n",
       "    <tr style=\"text-align: right;\">\n",
       "      <th></th>\n",
       "      <th>sum_sq</th>\n",
       "      <th>df</th>\n",
       "      <th>F</th>\n",
       "      <th>PR(&gt;F)</th>\n",
       "    </tr>\n",
       "  </thead>\n",
       "  <tbody>\n",
       "    <tr>\n",
       "      <th>C(Type_of_Travel_Business_travel)</th>\n",
       "      <td>9.368648e+06</td>\n",
       "      <td>1.0</td>\n",
       "      <td>4865.354183</td>\n",
       "      <td>0.000000e+00</td>\n",
       "    </tr>\n",
       "    <tr>\n",
       "      <th>C(Type_of_Travel_Personal_Travel)</th>\n",
       "      <td>2.388144e+06</td>\n",
       "      <td>1.0</td>\n",
       "      <td>1240.218057</td>\n",
       "      <td>2.112177e-270</td>\n",
       "    </tr>\n",
       "    <tr>\n",
       "      <th>C(Class_Business)</th>\n",
       "      <td>1.061843e+07</td>\n",
       "      <td>1.0</td>\n",
       "      <td>5514.396134</td>\n",
       "      <td>0.000000e+00</td>\n",
       "    </tr>\n",
       "    <tr>\n",
       "      <th>C(Class_Eco)</th>\n",
       "      <td>1.542827e+05</td>\n",
       "      <td>1.0</td>\n",
       "      <td>80.122542</td>\n",
       "      <td>3.563779e-19</td>\n",
       "    </tr>\n",
       "    <tr>\n",
       "      <th>C(Class_Eco_Plus)</th>\n",
       "      <td>2.284751e+03</td>\n",
       "      <td>1.0</td>\n",
       "      <td>1.186524</td>\n",
       "      <td>2.760339e-01</td>\n",
       "    </tr>\n",
       "    <tr>\n",
       "      <th>C(Gender_Female)</th>\n",
       "      <td>1.257572e+07</td>\n",
       "      <td>1.0</td>\n",
       "      <td>6530.859598</td>\n",
       "      <td>0.000000e+00</td>\n",
       "    </tr>\n",
       "    <tr>\n",
       "      <th>C(Gender_Male)</th>\n",
       "      <td>7.080882e+06</td>\n",
       "      <td>1.0</td>\n",
       "      <td>3677.264639</td>\n",
       "      <td>0.000000e+00</td>\n",
       "    </tr>\n",
       "    <tr>\n",
       "      <th>C(Customer_Type_Loyal_Customer)</th>\n",
       "      <td>1.846749e+07</td>\n",
       "      <td>1.0</td>\n",
       "      <td>9590.593802</td>\n",
       "      <td>0.000000e+00</td>\n",
       "    </tr>\n",
       "    <tr>\n",
       "      <th>C(Customer_Type_disloyal_Customer)</th>\n",
       "      <td>3.280921e+05</td>\n",
       "      <td>1.0</td>\n",
       "      <td>170.385797</td>\n",
       "      <td>6.448191e-39</td>\n",
       "    </tr>\n",
       "    <tr>\n",
       "      <th>C(Age_30)</th>\n",
       "      <td>1.334282e+06</td>\n",
       "      <td>1.0</td>\n",
       "      <td>692.923411</td>\n",
       "      <td>2.604338e-152</td>\n",
       "    </tr>\n",
       "    <tr>\n",
       "      <th>Residual</th>\n",
       "      <td>2.500814e+08</td>\n",
       "      <td>129873.0</td>\n",
       "      <td>NaN</td>\n",
       "      <td>NaN</td>\n",
       "    </tr>\n",
       "  </tbody>\n",
       "</table>\n",
       "</div>"
      ],
      "text/plain": [
       "                                          sum_sq        df            F  \\\n",
       "C(Type_of_Travel_Business_travel)   9.368648e+06       1.0  4865.354183   \n",
       "C(Type_of_Travel_Personal_Travel)   2.388144e+06       1.0  1240.218057   \n",
       "C(Class_Business)                   1.061843e+07       1.0  5514.396134   \n",
       "C(Class_Eco)                        1.542827e+05       1.0    80.122542   \n",
       "C(Class_Eco_Plus)                   2.284751e+03       1.0     1.186524   \n",
       "C(Gender_Female)                    1.257572e+07       1.0  6530.859598   \n",
       "C(Gender_Male)                      7.080882e+06       1.0  3677.264639   \n",
       "C(Customer_Type_Loyal_Customer)     1.846749e+07       1.0  9590.593802   \n",
       "C(Customer_Type_disloyal_Customer)  3.280921e+05       1.0   170.385797   \n",
       "C(Age_30)                           1.334282e+06       1.0   692.923411   \n",
       "Residual                            2.500814e+08  129873.0          NaN   \n",
       "\n",
       "                                           PR(>F)  \n",
       "C(Type_of_Travel_Business_travel)    0.000000e+00  \n",
       "C(Type_of_Travel_Personal_Travel)   2.112177e-270  \n",
       "C(Class_Business)                    0.000000e+00  \n",
       "C(Class_Eco)                         3.563779e-19  \n",
       "C(Class_Eco_Plus)                    2.760339e-01  \n",
       "C(Gender_Female)                     0.000000e+00  \n",
       "C(Gender_Male)                       0.000000e+00  \n",
       "C(Customer_Type_Loyal_Customer)      0.000000e+00  \n",
       "C(Customer_Type_disloyal_Customer)   6.448191e-39  \n",
       "C(Age_30)                           2.604338e-152  \n",
       "Residual                                      NaN  "
      ]
     },
     "execution_count": 61,
     "metadata": {},
     "output_type": "execute_result"
    }
   ],
   "source": [
    "dv = \"Seat_comfortcube\"\n",
    "cols = list(dummy.columns) + ['Age_30']\n",
    "string_var = dv + \" ~ C(\" + cols[0] + \")\"\n",
    "for col in cols[1:]:\n",
    "    string_var = string_var + \" + C(\" + col +\")\"\n",
    "string_var\n",
    "\n",
    "model =ols (string_var, data =sat).fit()\n",
    "\n",
    "anova = sm.stats.anova_lm(model, typ=2)\n",
    "anova"
   ]
  },
  {
   "cell_type": "markdown",
   "id": "4d41cfd8",
   "metadata": {},
   "source": [
    "## Age has a big effect"
   ]
  },
  {
   "cell_type": "markdown",
   "id": "3bfe50bf",
   "metadata": {},
   "source": [
    "## Inflight Service"
   ]
  },
  {
   "cell_type": "code",
   "execution_count": 62,
   "id": "3c9428e8",
   "metadata": {},
   "outputs": [
    {
     "data": {
      "text/plain": [
       "<AxesSubplot:xlabel='Inflight_service', ylabel='Count'>"
      ]
     },
     "execution_count": 62,
     "metadata": {},
     "output_type": "execute_result"
    },
    {
     "data": {
      "image/png": "[encoded data removed]",
      "text/plain": [
       "<Figure size 432x288 with 1 Axes>"
      ]
     },
     "metadata": {
      "needs_background": "light"
     },
     "output_type": "display_data"
    }
   ],
   "source": [
    "sns.histplot(sat['Inflight_service'])"
   ]
  },
  {
   "cell_type": "code",
   "execution_count": 63,
   "id": "16e104ba",
   "metadata": {},
   "outputs": [
    {
     "data": {
      "text/plain": [
       "<AxesSubplot:xlabel='Inflight_servicecube', ylabel='Count'>"
      ]
     },
     "execution_count": 63,
     "metadata": {},
     "output_type": "execute_result"
    },
    {
     "data": {
      "image/png": "[encoded data removed]",
      "text/plain": [
       "<Figure size 432x288 with 1 Axes>"
      ]
     },
     "metadata": {
      "needs_background": "light"
     },
     "output_type": "display_data"
    }
   ],
   "source": [
    "sat['Inflight_servicecube'] = sat['Inflight_service'] ** 3\n",
    "sns.histplot(sat['Inflight_servicecube'])"
   ]
  },
  {
   "cell_type": "code",
   "execution_count": 64,
   "id": "67012bbf",
   "metadata": {},
   "outputs": [
    {
     "data": {
      "text/html": [
       "<div>\n",
       "<style scoped>\n",
       "    .dataframe tbody tr th:only-of-type {\n",
       "        vertical-align: middle;\n",
       "    }\n",
       "\n",
       "    .dataframe tbody tr th {\n",
       "        vertical-align: top;\n",
       "    }\n",
       "\n",
       "    .dataframe thead th {\n",
       "        text-align: right;\n",
       "    }\n",
       "</style>\n",
       "<table border=\"1\" class=\"dataframe\">\n",
       "  <thead>\n",
       "    <tr style=\"text-align: right;\">\n",
       "      <th></th>\n",
       "      <th>sum_sq</th>\n",
       "      <th>df</th>\n",
       "      <th>F</th>\n",
       "      <th>PR(&gt;F)</th>\n",
       "    </tr>\n",
       "  </thead>\n",
       "  <tbody>\n",
       "    <tr>\n",
       "      <th>C(Type_of_Travel_Business_travel)</th>\n",
       "      <td>1.124785e+06</td>\n",
       "      <td>1.0</td>\n",
       "      <td>635.157210</td>\n",
       "      <td>8.211226e-140</td>\n",
       "    </tr>\n",
       "    <tr>\n",
       "      <th>C(Type_of_Travel_Personal_Travel)</th>\n",
       "      <td>1.599522e+07</td>\n",
       "      <td>1.0</td>\n",
       "      <td>9032.375467</td>\n",
       "      <td>0.000000e+00</td>\n",
       "    </tr>\n",
       "    <tr>\n",
       "      <th>C(Class_Business)</th>\n",
       "      <td>1.976246e+07</td>\n",
       "      <td>1.0</td>\n",
       "      <td>11159.702628</td>\n",
       "      <td>0.000000e+00</td>\n",
       "    </tr>\n",
       "    <tr>\n",
       "      <th>C(Class_Eco)</th>\n",
       "      <td>3.137505e+02</td>\n",
       "      <td>1.0</td>\n",
       "      <td>0.177172</td>\n",
       "      <td>6.738153e-01</td>\n",
       "    </tr>\n",
       "    <tr>\n",
       "      <th>C(Class_Eco_Plus)</th>\n",
       "      <td>1.225960e+04</td>\n",
       "      <td>1.0</td>\n",
       "      <td>6.922900</td>\n",
       "      <td>8.510892e-03</td>\n",
       "    </tr>\n",
       "    <tr>\n",
       "      <th>C(Gender_Female)</th>\n",
       "      <td>1.148298e+07</td>\n",
       "      <td>1.0</td>\n",
       "      <td>6484.347230</td>\n",
       "      <td>0.000000e+00</td>\n",
       "    </tr>\n",
       "    <tr>\n",
       "      <th>C(Gender_Male)</th>\n",
       "      <td>1.707300e+07</td>\n",
       "      <td>1.0</td>\n",
       "      <td>9640.985958</td>\n",
       "      <td>0.000000e+00</td>\n",
       "    </tr>\n",
       "    <tr>\n",
       "      <th>C(Customer_Type_Loyal_Customer)</th>\n",
       "      <td>3.857310e+06</td>\n",
       "      <td>1.0</td>\n",
       "      <td>2178.192329</td>\n",
       "      <td>0.000000e+00</td>\n",
       "    </tr>\n",
       "    <tr>\n",
       "      <th>C(Customer_Type_disloyal_Customer)</th>\n",
       "      <td>9.235399e+06</td>\n",
       "      <td>1.0</td>\n",
       "      <td>5215.156462</td>\n",
       "      <td>0.000000e+00</td>\n",
       "    </tr>\n",
       "    <tr>\n",
       "      <th>C(Age_30)</th>\n",
       "      <td>1.286030e+05</td>\n",
       "      <td>1.0</td>\n",
       "      <td>72.621087</td>\n",
       "      <td>1.587379e-17</td>\n",
       "    </tr>\n",
       "    <tr>\n",
       "      <th>Residual</th>\n",
       "      <td>2.299891e+08</td>\n",
       "      <td>129873.0</td>\n",
       "      <td>NaN</td>\n",
       "      <td>NaN</td>\n",
       "    </tr>\n",
       "  </tbody>\n",
       "</table>\n",
       "</div>"
      ],
      "text/plain": [
       "                                          sum_sq        df             F  \\\n",
       "C(Type_of_Travel_Business_travel)   1.124785e+06       1.0    635.157210   \n",
       "C(Type_of_Travel_Personal_Travel)   1.599522e+07       1.0   9032.375467   \n",
       "C(Class_Business)                   1.976246e+07       1.0  11159.702628   \n",
       "C(Class_Eco)                        3.137505e+02       1.0      0.177172   \n",
       "C(Class_Eco_Plus)                   1.225960e+04       1.0      6.922900   \n",
       "C(Gender_Female)                    1.148298e+07       1.0   6484.347230   \n",
       "C(Gender_Male)                      1.707300e+07       1.0   9640.985958   \n",
       "C(Customer_Type_Loyal_Customer)     3.857310e+06       1.0   2178.192329   \n",
       "C(Customer_Type_disloyal_Customer)  9.235399e+06       1.0   5215.156462   \n",
       "C(Age_30)                           1.286030e+05       1.0     72.621087   \n",
       "Residual                            2.299891e+08  129873.0           NaN   \n",
       "\n",
       "                                           PR(>F)  \n",
       "C(Type_of_Travel_Business_travel)   8.211226e-140  \n",
       "C(Type_of_Travel_Personal_Travel)    0.000000e+00  \n",
       "C(Class_Business)                    0.000000e+00  \n",
       "C(Class_Eco)                         6.738153e-01  \n",
       "C(Class_Eco_Plus)                    8.510892e-03  \n",
       "C(Gender_Female)                     0.000000e+00  \n",
       "C(Gender_Male)                       0.000000e+00  \n",
       "C(Customer_Type_Loyal_Customer)      0.000000e+00  \n",
       "C(Customer_Type_disloyal_Customer)   0.000000e+00  \n",
       "C(Age_30)                            1.587379e-17  \n",
       "Residual                                      NaN  "
      ]
     },
     "execution_count": 64,
     "metadata": {},
     "output_type": "execute_result"
    }
   ],
   "source": [
    "dv = \"Inflight_servicecube\"\n",
    "cols = list(dummy.columns) + ['Age_30']\n",
    "string_var = dv + \" ~ C(\" + cols[0] + \")\"\n",
    "for col in cols[1:]:\n",
    "    string_var = string_var + \" + C(\" + col +\")\"\n",
    "string_var\n",
    "\n",
    "model =ols (string_var, data =sat).fit()\n",
    "\n",
    "anova = sm.stats.anova_lm(model, typ=2)\n",
    "anova"
   ]
  },
  {
   "cell_type": "markdown",
   "id": "2965f48c",
   "metadata": {},
   "source": [
    "## Age, eco class, and business travel is sig dif"
   ]
  },
  {
   "cell_type": "code",
   "execution_count": null,
   "id": "93311b0c",
   "metadata": {},
   "outputs": [],
   "source": []
  }
 ],
 "metadata": {
  "kernelspec": {
   "display_name": "Python 3 (ipykernel)",
   "language": "python",
   "name": "python3"
  },
  "language_info": {
   "codemirror_mode": {
    "name": "ipython",
    "version": 3
   },
   "file_extension": ".py",
   "mimetype": "text/x-python",
   "name": "python",
   "nbconvert_exporter": "python",
   "pygments_lexer": "ipython3",
   "version": "3.9.7"
  }
 },
 "nbformat": 4,
 "nbformat_minor": 5
}
